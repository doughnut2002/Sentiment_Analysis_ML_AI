{
 "cells": [
  {
   "cell_type": "code",
   "execution_count": 1,
   "id": "b69043d6",
   "metadata": {
    "_cell_guid": "b1076dfc-b9ad-4769-8c92-a6c4dae69d19",
    "_uuid": "8f2839f25d086af736a60e9eeb907d3b93b6e0e5",
    "execution": {
     "iopub.execute_input": "2023-08-24T09:10:34.046197Z",
     "iopub.status.busy": "2023-08-24T09:10:34.045797Z",
     "iopub.status.idle": "2023-08-24T09:10:34.061440Z",
     "shell.execute_reply": "2023-08-24T09:10:34.059850Z"
    },
    "papermill": {
     "duration": 0.041554,
     "end_time": "2023-08-24T09:10:34.064026",
     "exception": false,
     "start_time": "2023-08-24T09:10:34.022472",
     "status": "completed"
    },
    "tags": []
   },
   "outputs": [
    {
     "name": "stdout",
     "output_type": "stream",
     "text": [
      "/kaggle/input/sentiment-prediction-on-movie-reviews/movies.csv\n",
      "/kaggle/input/sentiment-prediction-on-movie-reviews/sample.csv\n",
      "/kaggle/input/sentiment-prediction-on-movie-reviews/train.csv\n",
      "/kaggle/input/sentiment-prediction-on-movie-reviews/test.csv\n"
     ]
    }
   ],
   "source": [
    "# This Python 3 environment comes with many helpful analytics libraries installed\n",
    "# It is defined by the kaggle/python Docker image: https://github.com/kaggle/docker-python\n",
    "# For example, here's several helpful packages to load\n",
    "\n",
    "import numpy as np # linear algebra\n",
    "import pandas as pd # data processing, CSV file I/O (e.g. pd.read_csv)\n",
    "\n",
    "# Input data files are available in the read-only \"../input/\" directory\n",
    "# For example, running this (by clicking run or pressing Shift+Enter) will list all files under the input directory\n",
    "\n",
    "import os\n",
    "for dirname, _, filenames in os.walk('/kaggle/input'):\n",
    "    for filename in filenames:\n",
    "        print(os.path.join(dirname, filename))\n",
    "\n",
    "# You can write up to 20GB to the current directory (/kaggle/working/) that gets preserved as output when you create a version using \"Save & Run All\" \n",
    "# You can also write temporary files to /kaggle/temp/, but they won't be saved outside of the current session"
   ]
  },
  {
   "cell_type": "markdown",
   "id": "01bea947",
   "metadata": {
    "papermill": {
     "duration": 0.020755,
     "end_time": "2023-08-24T09:10:34.106191",
     "exception": false,
     "start_time": "2023-08-24T09:10:34.085436",
     "status": "completed"
    },
    "tags": []
   },
   "source": [
    "# Importing Packages & Functions"
   ]
  },
  {
   "cell_type": "code",
   "execution_count": 2,
   "id": "e9b8e892",
   "metadata": {
    "execution": {
     "iopub.execute_input": "2023-08-24T09:10:34.150985Z",
     "iopub.status.busy": "2023-08-24T09:10:34.150208Z",
     "iopub.status.idle": "2023-08-24T09:10:36.615737Z",
     "shell.execute_reply": "2023-08-24T09:10:36.614395Z"
    },
    "papermill": {
     "duration": 2.491064,
     "end_time": "2023-08-24T09:10:36.618715",
     "exception": false,
     "start_time": "2023-08-24T09:10:34.127651",
     "status": "completed"
    },
    "tags": []
   },
   "outputs": [],
   "source": [
    "#General\n",
    "import numpy as np\n",
    "import pandas as pd\n",
    "import matplotlib.pyplot as plt\n",
    "import seaborn as sns\n",
    "from scipy.stats import uniform\n",
    "#Preprocessing\n",
    "from sklearn.preprocessing import LabelEncoder,StandardScaler\n",
    "from sklearn.impute import SimpleImputer\n",
    "from sklearn.feature_extraction.text import TfidfVectorizer\n",
    "\n",
    "from sklearn.pipeline import Pipeline\n",
    "from sklearn.model_selection import train_test_split,RandomizedSearchCV\n",
    "#Models\n",
    "from sklearn.dummy import DummyClassifier\n",
    "from sklearn.linear_model import LogisticRegression\n",
    "from sklearn.svm import LinearSVC\n",
    "from sklearn.tree import DecisionTreeClassifier\n",
    "#Evaluation\n",
    "from sklearn.metrics import accuracy_score, f1_score, classification_report, confusion_matrix\n"
   ]
  },
  {
   "cell_type": "markdown",
   "id": "d3295c76",
   "metadata": {
    "papermill": {
     "duration": 0.020691,
     "end_time": "2023-08-24T09:10:36.660614",
     "exception": false,
     "start_time": "2023-08-24T09:10:36.639923",
     "status": "completed"
    },
    "tags": []
   },
   "source": [
    "# Reading & Creating final data"
   ]
  },
  {
   "cell_type": "code",
   "execution_count": 3,
   "id": "3679b7a5",
   "metadata": {
    "execution": {
     "iopub.execute_input": "2023-08-24T09:10:36.706082Z",
     "iopub.status.busy": "2023-08-24T09:10:36.705659Z",
     "iopub.status.idle": "2023-08-24T09:10:39.321125Z",
     "shell.execute_reply": "2023-08-24T09:10:39.319799Z"
    },
    "papermill": {
     "duration": 2.642015,
     "end_time": "2023-08-24T09:10:39.324122",
     "exception": false,
     "start_time": "2023-08-24T09:10:36.682107",
     "status": "completed"
    },
    "tags": []
   },
   "outputs": [],
   "source": [
    "movie = pd.read_csv(\"/kaggle/input/sentiment-prediction-on-movie-reviews/movies.csv\")\n",
    "train = pd.read_csv(\"/kaggle/input/sentiment-prediction-on-movie-reviews/train.csv\")\n",
    "test = pd.read_csv('/kaggle/input/sentiment-prediction-on-movie-reviews/test.csv')\n",
    "movie=movie.drop_duplicates(subset = 'movieid')\n"
   ]
  },
  {
   "cell_type": "markdown",
   "id": "459051e5",
   "metadata": {
    "papermill": {
     "duration": 0.021022,
     "end_time": "2023-08-24T09:10:39.367133",
     "exception": false,
     "start_time": "2023-08-24T09:10:39.346111",
     "status": "completed"
    },
    "tags": []
   },
   "source": [
    "**Merging train/test with movie table**"
   ]
  },
  {
   "cell_type": "code",
   "execution_count": 4,
   "id": "bab8a802",
   "metadata": {
    "execution": {
     "iopub.execute_input": "2023-08-24T09:10:39.411892Z",
     "iopub.status.busy": "2023-08-24T09:10:39.411253Z",
     "iopub.status.idle": "2023-08-24T09:10:39.852966Z",
     "shell.execute_reply": "2023-08-24T09:10:39.851734Z"
    },
    "papermill": {
     "duration": 0.467429,
     "end_time": "2023-08-24T09:10:39.855902",
     "exception": false,
     "start_time": "2023-08-24T09:10:39.388473",
     "status": "completed"
    },
    "tags": []
   },
   "outputs": [],
   "source": [
    "merge_train = pd.merge(train, movie, on = 'movieid', how = 'left')\n",
    "merge_test = pd.merge(test, movie, on = \"movieid\", how =\"left\")"
   ]
  },
  {
   "cell_type": "code",
   "execution_count": 5,
   "id": "85aa1bd1",
   "metadata": {
    "execution": {
     "iopub.execute_input": "2023-08-24T09:10:39.901921Z",
     "iopub.status.busy": "2023-08-24T09:10:39.901483Z",
     "iopub.status.idle": "2023-08-24T09:10:39.927410Z",
     "shell.execute_reply": "2023-08-24T09:10:39.926199Z"
    },
    "papermill": {
     "duration": 0.052151,
     "end_time": "2023-08-24T09:10:39.930221",
     "exception": false,
     "start_time": "2023-08-24T09:10:39.878070",
     "status": "completed"
    },
    "tags": []
   },
   "outputs": [
    {
     "data": {
      "text/html": [
       "<div>\n",
       "<style scoped>\n",
       "    .dataframe tbody tr th:only-of-type {\n",
       "        vertical-align: middle;\n",
       "    }\n",
       "\n",
       "    .dataframe tbody tr th {\n",
       "        vertical-align: top;\n",
       "    }\n",
       "\n",
       "    .dataframe thead th {\n",
       "        text-align: right;\n",
       "    }\n",
       "</style>\n",
       "<table border=\"1\" class=\"dataframe\">\n",
       "  <thead>\n",
       "    <tr style=\"text-align: right;\">\n",
       "      <th></th>\n",
       "      <th>movieid</th>\n",
       "      <th>reviewerName</th>\n",
       "      <th>isFrequentReviewer</th>\n",
       "      <th>reviewText</th>\n",
       "      <th>sentiment</th>\n",
       "    </tr>\n",
       "  </thead>\n",
       "  <tbody>\n",
       "    <tr>\n",
       "      <th>0</th>\n",
       "      <td>marvelous_pirate</td>\n",
       "      <td>Benjamin Henry</td>\n",
       "      <td>False</td>\n",
       "      <td>Henry Selick’s first movie since 2009’s Corali...</td>\n",
       "      <td>POSITIVE</td>\n",
       "    </tr>\n",
       "    <tr>\n",
       "      <th>1</th>\n",
       "      <td>tony_montana_frodo_baggins_v_rocky_balboa</td>\n",
       "      <td>Felicia Lopez</td>\n",
       "      <td>False</td>\n",
       "      <td>With a cast that reads like the Vogue Oscar pa...</td>\n",
       "      <td>NEGATIVE</td>\n",
       "    </tr>\n",
       "    <tr>\n",
       "      <th>2</th>\n",
       "      <td>darth_vader_katniss_everdeen_sorcerer_donnie_d...</td>\n",
       "      <td>Mr. Charles Burgess</td>\n",
       "      <td>True</td>\n",
       "      <td>Creed II does not give us anything but another...</td>\n",
       "      <td>POSITIVE</td>\n",
       "    </tr>\n",
       "    <tr>\n",
       "      <th>3</th>\n",
       "      <td>lara_croft_glimmer</td>\n",
       "      <td>Ryan Barrett</td>\n",
       "      <td>False</td>\n",
       "      <td>I know what you're thinking, but this is no Li...</td>\n",
       "      <td>POSITIVE</td>\n",
       "    </tr>\n",
       "    <tr>\n",
       "      <th>4</th>\n",
       "      <td>jason_bourne_surreal_the_terminator_indiana_jones</td>\n",
       "      <td>Alexander Glover</td>\n",
       "      <td>False</td>\n",
       "      <td>Director Fernando Meirelles tells the story wi...</td>\n",
       "      <td>POSITIVE</td>\n",
       "    </tr>\n",
       "  </tbody>\n",
       "</table>\n",
       "</div>"
      ],
      "text/plain": [
       "                                             movieid         reviewerName  \\\n",
       "0                                   marvelous_pirate       Benjamin Henry   \n",
       "1          tony_montana_frodo_baggins_v_rocky_balboa        Felicia Lopez   \n",
       "2  darth_vader_katniss_everdeen_sorcerer_donnie_d...  Mr. Charles Burgess   \n",
       "3                                 lara_croft_glimmer         Ryan Barrett   \n",
       "4  jason_bourne_surreal_the_terminator_indiana_jones     Alexander Glover   \n",
       "\n",
       "   isFrequentReviewer                                         reviewText  \\\n",
       "0               False  Henry Selick’s first movie since 2009’s Corali...   \n",
       "1               False  With a cast that reads like the Vogue Oscar pa...   \n",
       "2                True  Creed II does not give us anything but another...   \n",
       "3               False  I know what you're thinking, but this is no Li...   \n",
       "4               False  Director Fernando Meirelles tells the story wi...   \n",
       "\n",
       "  sentiment  \n",
       "0  POSITIVE  \n",
       "1  NEGATIVE  \n",
       "2  POSITIVE  \n",
       "3  POSITIVE  \n",
       "4  POSITIVE  "
      ]
     },
     "execution_count": 5,
     "metadata": {},
     "output_type": "execute_result"
    }
   ],
   "source": [
    "train.head()\n"
   ]
  },
  {
   "cell_type": "code",
   "execution_count": 6,
   "id": "e19c6b51",
   "metadata": {
    "execution": {
     "iopub.execute_input": "2023-08-24T09:10:39.976220Z",
     "iopub.status.busy": "2023-08-24T09:10:39.975604Z",
     "iopub.status.idle": "2023-08-24T09:10:39.987999Z",
     "shell.execute_reply": "2023-08-24T09:10:39.986917Z"
    },
    "papermill": {
     "duration": 0.038293,
     "end_time": "2023-08-24T09:10:39.990414",
     "exception": false,
     "start_time": "2023-08-24T09:10:39.952121",
     "status": "completed"
    },
    "tags": []
   },
   "outputs": [
    {
     "data": {
      "text/html": [
       "<div>\n",
       "<style scoped>\n",
       "    .dataframe tbody tr th:only-of-type {\n",
       "        vertical-align: middle;\n",
       "    }\n",
       "\n",
       "    .dataframe tbody tr th {\n",
       "        vertical-align: top;\n",
       "    }\n",
       "\n",
       "    .dataframe thead th {\n",
       "        text-align: right;\n",
       "    }\n",
       "</style>\n",
       "<table border=\"1\" class=\"dataframe\">\n",
       "  <thead>\n",
       "    <tr style=\"text-align: right;\">\n",
       "      <th></th>\n",
       "      <th>movieid</th>\n",
       "      <th>reviewerName</th>\n",
       "      <th>isFrequentReviewer</th>\n",
       "      <th>reviewText</th>\n",
       "      <th>sentiment</th>\n",
       "    </tr>\n",
       "  </thead>\n",
       "  <tbody>\n",
       "    <tr>\n",
       "      <th>162753</th>\n",
       "      <td>the_joker_ethereal_captain_jack_sparrow_fantastic</td>\n",
       "      <td>Danny Mueller</td>\n",
       "      <td>False</td>\n",
       "      <td>A top-notch thriller with genuine surprises an...</td>\n",
       "      <td>POSITIVE</td>\n",
       "    </tr>\n",
       "    <tr>\n",
       "      <th>162754</th>\n",
       "      <td>e.t._hannibal_lecter_vito_corleone_katniss_eve...</td>\n",
       "      <td>Jennifer Clayton</td>\n",
       "      <td>True</td>\n",
       "      <td>Some people find Derek Zoolander funny and lik...</td>\n",
       "      <td>NEGATIVE</td>\n",
       "    </tr>\n",
       "    <tr>\n",
       "      <th>162755</th>\n",
       "      <td>infinite_enigma_luke_skywalker</td>\n",
       "      <td>Bryan Wilson</td>\n",
       "      <td>False</td>\n",
       "      <td>This fun, gentle comedy focuses mainly on them...</td>\n",
       "      <td>POSITIVE</td>\n",
       "    </tr>\n",
       "    <tr>\n",
       "      <th>162756</th>\n",
       "      <td>emerald_oracle_iron_man_wolverine</td>\n",
       "      <td>Erik Parker</td>\n",
       "      <td>False</td>\n",
       "      <td>The film is rescued by a strong third act, but...</td>\n",
       "      <td>NEGATIVE</td>\n",
       "    </tr>\n",
       "    <tr>\n",
       "      <th>162757</th>\n",
       "      <td>james_t._kirk_phenomenal_zephyr_chronicles</td>\n",
       "      <td>Howard Evans</td>\n",
       "      <td>False</td>\n",
       "      <td>A peerless exercise in stimulus response.</td>\n",
       "      <td>POSITIVE</td>\n",
       "    </tr>\n",
       "  </tbody>\n",
       "</table>\n",
       "</div>"
      ],
      "text/plain": [
       "                                                  movieid      reviewerName  \\\n",
       "162753  the_joker_ethereal_captain_jack_sparrow_fantastic     Danny Mueller   \n",
       "162754  e.t._hannibal_lecter_vito_corleone_katniss_eve...  Jennifer Clayton   \n",
       "162755                     infinite_enigma_luke_skywalker      Bryan Wilson   \n",
       "162756                  emerald_oracle_iron_man_wolverine       Erik Parker   \n",
       "162757         james_t._kirk_phenomenal_zephyr_chronicles      Howard Evans   \n",
       "\n",
       "        isFrequentReviewer                                         reviewText  \\\n",
       "162753               False  A top-notch thriller with genuine surprises an...   \n",
       "162754                True  Some people find Derek Zoolander funny and lik...   \n",
       "162755               False  This fun, gentle comedy focuses mainly on them...   \n",
       "162756               False  The film is rescued by a strong third act, but...   \n",
       "162757               False          A peerless exercise in stimulus response.   \n",
       "\n",
       "       sentiment  \n",
       "162753  POSITIVE  \n",
       "162754  NEGATIVE  \n",
       "162755  POSITIVE  \n",
       "162756  NEGATIVE  \n",
       "162757  POSITIVE  "
      ]
     },
     "execution_count": 6,
     "metadata": {},
     "output_type": "execute_result"
    }
   ],
   "source": [
    "train.tail()"
   ]
  },
  {
   "cell_type": "code",
   "execution_count": 7,
   "id": "e6af0801",
   "metadata": {
    "execution": {
     "iopub.execute_input": "2023-08-24T09:10:40.036226Z",
     "iopub.status.busy": "2023-08-24T09:10:40.035599Z",
     "iopub.status.idle": "2023-08-24T09:10:40.047296Z",
     "shell.execute_reply": "2023-08-24T09:10:40.046192Z"
    },
    "papermill": {
     "duration": 0.037591,
     "end_time": "2023-08-24T09:10:40.049656",
     "exception": false,
     "start_time": "2023-08-24T09:10:40.012065",
     "status": "completed"
    },
    "tags": []
   },
   "outputs": [
    {
     "data": {
      "text/html": [
       "<div>\n",
       "<style scoped>\n",
       "    .dataframe tbody tr th:only-of-type {\n",
       "        vertical-align: middle;\n",
       "    }\n",
       "\n",
       "    .dataframe tbody tr th {\n",
       "        vertical-align: top;\n",
       "    }\n",
       "\n",
       "    .dataframe thead th {\n",
       "        text-align: right;\n",
       "    }\n",
       "</style>\n",
       "<table border=\"1\" class=\"dataframe\">\n",
       "  <thead>\n",
       "    <tr style=\"text-align: right;\">\n",
       "      <th></th>\n",
       "      <th>movieid</th>\n",
       "      <th>reviewerName</th>\n",
       "      <th>isTopCritic</th>\n",
       "      <th>reviewText</th>\n",
       "    </tr>\n",
       "  </thead>\n",
       "  <tbody>\n",
       "    <tr>\n",
       "      <th>0</th>\n",
       "      <td>legend_marty_mcfly_oracle</td>\n",
       "      <td>John Kim</td>\n",
       "      <td>False</td>\n",
       "      <td>Green slowly cranks up the dread with style an...</td>\n",
       "    </tr>\n",
       "    <tr>\n",
       "      <th>1</th>\n",
       "      <td>terminator_katniss_everdeen_glimmer</td>\n",
       "      <td>Brian Chaney</td>\n",
       "      <td>False</td>\n",
       "      <td>Philip Noyce's direction is elegant and unforc...</td>\n",
       "    </tr>\n",
       "    <tr>\n",
       "      <th>2</th>\n",
       "      <td>james_bond_labyrinth_gollum</td>\n",
       "      <td>Danielle Parker</td>\n",
       "      <td>False</td>\n",
       "      <td>It wouldn't do to say what path Maria ultimate...</td>\n",
       "    </tr>\n",
       "    <tr>\n",
       "      <th>3</th>\n",
       "      <td>v_quest_han_solo_wondrous</td>\n",
       "      <td>Brittany Lane</td>\n",
       "      <td>False</td>\n",
       "      <td>Pig is not exactly the arthouse John Wick that...</td>\n",
       "    </tr>\n",
       "    <tr>\n",
       "      <th>4</th>\n",
       "      <td>enigma_hulk_surreal_starlight</td>\n",
       "      <td>Justin Willis</td>\n",
       "      <td>False</td>\n",
       "      <td>An imaginative no-budget musical of sorts abou...</td>\n",
       "    </tr>\n",
       "  </tbody>\n",
       "</table>\n",
       "</div>"
      ],
      "text/plain": [
       "                               movieid     reviewerName  isTopCritic  \\\n",
       "0            legend_marty_mcfly_oracle         John Kim        False   \n",
       "1  terminator_katniss_everdeen_glimmer     Brian Chaney        False   \n",
       "2          james_bond_labyrinth_gollum  Danielle Parker        False   \n",
       "3            v_quest_han_solo_wondrous    Brittany Lane        False   \n",
       "4        enigma_hulk_surreal_starlight    Justin Willis        False   \n",
       "\n",
       "                                          reviewText  \n",
       "0  Green slowly cranks up the dread with style an...  \n",
       "1  Philip Noyce's direction is elegant and unforc...  \n",
       "2  It wouldn't do to say what path Maria ultimate...  \n",
       "3  Pig is not exactly the arthouse John Wick that...  \n",
       "4  An imaginative no-budget musical of sorts abou...  "
      ]
     },
     "execution_count": 7,
     "metadata": {},
     "output_type": "execute_result"
    }
   ],
   "source": [
    "test.head()"
   ]
  },
  {
   "cell_type": "code",
   "execution_count": 8,
   "id": "b493519f",
   "metadata": {
    "execution": {
     "iopub.execute_input": "2023-08-24T09:10:40.096136Z",
     "iopub.status.busy": "2023-08-24T09:10:40.095492Z",
     "iopub.status.idle": "2023-08-24T09:10:40.119481Z",
     "shell.execute_reply": "2023-08-24T09:10:40.118395Z"
    },
    "papermill": {
     "duration": 0.050287,
     "end_time": "2023-08-24T09:10:40.122166",
     "exception": false,
     "start_time": "2023-08-24T09:10:40.071879",
     "status": "completed"
    },
    "tags": []
   },
   "outputs": [],
   "source": [
    "#changing name of test data from 'isTopCritic' to 'isFrequentReviewer'\n",
    "merge_test['isFrequentReviewer'] = merge_test['isTopCritic']\n",
    "merge_test.drop(columns='isTopCritic', inplace=True)\n"
   ]
  },
  {
   "cell_type": "code",
   "execution_count": 9,
   "id": "01b2246b",
   "metadata": {
    "execution": {
     "iopub.execute_input": "2023-08-24T09:10:40.169319Z",
     "iopub.status.busy": "2023-08-24T09:10:40.168710Z",
     "iopub.status.idle": "2023-08-24T09:10:40.192140Z",
     "shell.execute_reply": "2023-08-24T09:10:40.191055Z"
    },
    "papermill": {
     "duration": 0.049877,
     "end_time": "2023-08-24T09:10:40.194539",
     "exception": false,
     "start_time": "2023-08-24T09:10:40.144662",
     "status": "completed"
    },
    "tags": []
   },
   "outputs": [
    {
     "data": {
      "text/html": [
       "<div>\n",
       "<style scoped>\n",
       "    .dataframe tbody tr th:only-of-type {\n",
       "        vertical-align: middle;\n",
       "    }\n",
       "\n",
       "    .dataframe tbody tr th {\n",
       "        vertical-align: top;\n",
       "    }\n",
       "\n",
       "    .dataframe thead th {\n",
       "        text-align: right;\n",
       "    }\n",
       "</style>\n",
       "<table border=\"1\" class=\"dataframe\">\n",
       "  <thead>\n",
       "    <tr style=\"text-align: right;\">\n",
       "      <th></th>\n",
       "      <th>movieid</th>\n",
       "      <th>reviewerName</th>\n",
       "      <th>reviewText</th>\n",
       "      <th>title</th>\n",
       "      <th>audienceScore</th>\n",
       "      <th>rating</th>\n",
       "      <th>ratingContents</th>\n",
       "      <th>releaseDateTheaters</th>\n",
       "      <th>releaseDateStreaming</th>\n",
       "      <th>runtimeMinutes</th>\n",
       "      <th>genre</th>\n",
       "      <th>originalLanguage</th>\n",
       "      <th>director</th>\n",
       "      <th>boxOffice</th>\n",
       "      <th>distributor</th>\n",
       "      <th>soundType</th>\n",
       "      <th>isFrequentReviewer</th>\n",
       "    </tr>\n",
       "  </thead>\n",
       "  <tbody>\n",
       "    <tr>\n",
       "      <th>0</th>\n",
       "      <td>legend_marty_mcfly_oracle</td>\n",
       "      <td>John Kim</td>\n",
       "      <td>Green slowly cranks up the dread with style an...</td>\n",
       "      <td>Legend Marty McFly Oracle</td>\n",
       "      <td>57.0</td>\n",
       "      <td>R</td>\n",
       "      <td>['Gore', 'Bloody Horror Violence', 'Language T...</td>\n",
       "      <td>2022-10-14</td>\n",
       "      <td>2022-10-14</td>\n",
       "      <td>111.0</td>\n",
       "      <td>Holiday, Horror, Mystery &amp; thriller</td>\n",
       "      <td>English</td>\n",
       "      <td>Sara Barnett</td>\n",
       "      <td>$64.0M</td>\n",
       "      <td>Universal Pictures</td>\n",
       "      <td>Dolby Atmos</td>\n",
       "      <td>False</td>\n",
       "    </tr>\n",
       "    <tr>\n",
       "      <th>1</th>\n",
       "      <td>terminator_katniss_everdeen_glimmer</td>\n",
       "      <td>Brian Chaney</td>\n",
       "      <td>Philip Noyce's direction is elegant and unforc...</td>\n",
       "      <td>Terminator Katniss Everdeen Glimmer</td>\n",
       "      <td>86.0</td>\n",
       "      <td>PG</td>\n",
       "      <td>['Emotional Thematic Material']</td>\n",
       "      <td>2002-11-29</td>\n",
       "      <td>2003-04-15</td>\n",
       "      <td>94.0</td>\n",
       "      <td>Drama, Adventure</td>\n",
       "      <td>English</td>\n",
       "      <td>Cindy Flander</td>\n",
       "      <td>$6.2M</td>\n",
       "      <td>Miramax Films</td>\n",
       "      <td>Dolby SR, DTS, Dolby Stereo, Surround, SDDS, D...</td>\n",
       "      <td>False</td>\n",
       "    </tr>\n",
       "    <tr>\n",
       "      <th>2</th>\n",
       "      <td>james_bond_labyrinth_gollum</td>\n",
       "      <td>Danielle Parker</td>\n",
       "      <td>It wouldn't do to say what path Maria ultimate...</td>\n",
       "      <td>James Bond Labyrinth Gollum</td>\n",
       "      <td>62.0</td>\n",
       "      <td>NaN</td>\n",
       "      <td>NaN</td>\n",
       "      <td>NaN</td>\n",
       "      <td>NaN</td>\n",
       "      <td>NaN</td>\n",
       "      <td>Drama</td>\n",
       "      <td>French</td>\n",
       "      <td>Charlotte Bramble</td>\n",
       "      <td>NaN</td>\n",
       "      <td>NaN</td>\n",
       "      <td>NaN</td>\n",
       "      <td>False</td>\n",
       "    </tr>\n",
       "    <tr>\n",
       "      <th>3</th>\n",
       "      <td>v_quest_han_solo_wondrous</td>\n",
       "      <td>Brittany Lane</td>\n",
       "      <td>Pig is not exactly the arthouse John Wick that...</td>\n",
       "      <td>V Quest Han Solo Wondrous</td>\n",
       "      <td>84.0</td>\n",
       "      <td>NaN</td>\n",
       "      <td>NaN</td>\n",
       "      <td>2021-07-16</td>\n",
       "      <td>2021-08-03</td>\n",
       "      <td>92.0</td>\n",
       "      <td>Drama, Mystery &amp; thriller</td>\n",
       "      <td>English</td>\n",
       "      <td>Jean Gainer</td>\n",
       "      <td>$3.1M</td>\n",
       "      <td>Neon</td>\n",
       "      <td>NaN</td>\n",
       "      <td>False</td>\n",
       "    </tr>\n",
       "    <tr>\n",
       "      <th>4</th>\n",
       "      <td>enigma_hulk_surreal_starlight</td>\n",
       "      <td>Justin Willis</td>\n",
       "      <td>An imaginative no-budget musical of sorts abou...</td>\n",
       "      <td>Enigma Hulk Surreal Starlight</td>\n",
       "      <td>NaN</td>\n",
       "      <td>NaN</td>\n",
       "      <td>NaN</td>\n",
       "      <td>NaN</td>\n",
       "      <td>NaN</td>\n",
       "      <td>66.0</td>\n",
       "      <td>Drama, Musical</td>\n",
       "      <td>Arabic</td>\n",
       "      <td>Marvin Short</td>\n",
       "      <td>NaN</td>\n",
       "      <td>NaN</td>\n",
       "      <td>NaN</td>\n",
       "      <td>False</td>\n",
       "    </tr>\n",
       "  </tbody>\n",
       "</table>\n",
       "</div>"
      ],
      "text/plain": [
       "                               movieid     reviewerName  \\\n",
       "0            legend_marty_mcfly_oracle         John Kim   \n",
       "1  terminator_katniss_everdeen_glimmer     Brian Chaney   \n",
       "2          james_bond_labyrinth_gollum  Danielle Parker   \n",
       "3            v_quest_han_solo_wondrous    Brittany Lane   \n",
       "4        enigma_hulk_surreal_starlight    Justin Willis   \n",
       "\n",
       "                                          reviewText  \\\n",
       "0  Green slowly cranks up the dread with style an...   \n",
       "1  Philip Noyce's direction is elegant and unforc...   \n",
       "2  It wouldn't do to say what path Maria ultimate...   \n",
       "3  Pig is not exactly the arthouse John Wick that...   \n",
       "4  An imaginative no-budget musical of sorts abou...   \n",
       "\n",
       "                                 title  audienceScore rating  \\\n",
       "0            Legend Marty McFly Oracle           57.0      R   \n",
       "1  Terminator Katniss Everdeen Glimmer           86.0     PG   \n",
       "2          James Bond Labyrinth Gollum           62.0    NaN   \n",
       "3            V Quest Han Solo Wondrous           84.0    NaN   \n",
       "4        Enigma Hulk Surreal Starlight            NaN    NaN   \n",
       "\n",
       "                                      ratingContents releaseDateTheaters  \\\n",
       "0  ['Gore', 'Bloody Horror Violence', 'Language T...          2022-10-14   \n",
       "1                    ['Emotional Thematic Material']          2002-11-29   \n",
       "2                                                NaN                 NaN   \n",
       "3                                                NaN          2021-07-16   \n",
       "4                                                NaN                 NaN   \n",
       "\n",
       "  releaseDateStreaming  runtimeMinutes                                genre  \\\n",
       "0           2022-10-14           111.0  Holiday, Horror, Mystery & thriller   \n",
       "1           2003-04-15            94.0                     Drama, Adventure   \n",
       "2                  NaN             NaN                                Drama   \n",
       "3           2021-08-03            92.0            Drama, Mystery & thriller   \n",
       "4                  NaN            66.0                       Drama, Musical   \n",
       "\n",
       "  originalLanguage           director boxOffice         distributor  \\\n",
       "0          English       Sara Barnett    $64.0M  Universal Pictures   \n",
       "1          English      Cindy Flander     $6.2M       Miramax Films   \n",
       "2           French  Charlotte Bramble       NaN                 NaN   \n",
       "3          English        Jean Gainer     $3.1M                Neon   \n",
       "4           Arabic       Marvin Short       NaN                 NaN   \n",
       "\n",
       "                                           soundType  isFrequentReviewer  \n",
       "0                                        Dolby Atmos               False  \n",
       "1  Dolby SR, DTS, Dolby Stereo, Surround, SDDS, D...               False  \n",
       "2                                                NaN               False  \n",
       "3                                                NaN               False  \n",
       "4                                                NaN               False  "
      ]
     },
     "execution_count": 9,
     "metadata": {},
     "output_type": "execute_result"
    }
   ],
   "source": [
    "merge_test.head()"
   ]
  },
  {
   "cell_type": "markdown",
   "id": "410541a4",
   "metadata": {
    "papermill": {
     "duration": 0.022216,
     "end_time": "2023-08-24T09:10:40.239121",
     "exception": false,
     "start_time": "2023-08-24T09:10:40.216905",
     "status": "completed"
    },
    "tags": []
   },
   "source": [
    "#### Aligning the columns:"
   ]
  },
  {
   "cell_type": "code",
   "execution_count": 10,
   "id": "67435e27",
   "metadata": {
    "execution": {
     "iopub.execute_input": "2023-08-24T09:10:40.286391Z",
     "iopub.status.busy": "2023-08-24T09:10:40.285676Z",
     "iopub.status.idle": "2023-08-24T09:10:40.441202Z",
     "shell.execute_reply": "2023-08-24T09:10:40.439659Z"
    },
    "papermill": {
     "duration": 0.182445,
     "end_time": "2023-08-24T09:10:40.444091",
     "exception": false,
     "start_time": "2023-08-24T09:10:40.261646",
     "status": "completed"
    },
    "tags": []
   },
   "outputs": [],
   "source": [
    "columns = [\"reviewText\", \"audienceScore\", \"runtimeMinutes\", \"genre\", \"rating\", \"ratingContents\", \"distributor\", \"director\", \"originalLanguage\", \"soundType\", \"boxOffice\", \"reviewerName\", \"movieid\", \"title\", \"isFrequentReviewer\", \"releaseDateStreaming\"]\n",
    "\n",
    "train_merge = merge_train[columns + ['sentiment']]\n",
    "test_final = merge_test[columns]\n",
    "\n",
    "y = train_merge['sentiment']\n"
   ]
  },
  {
   "cell_type": "markdown",
   "id": "839f22a3",
   "metadata": {
    "papermill": {
     "duration": 0.02291,
     "end_time": "2023-08-24T09:10:40.489705",
     "exception": false,
     "start_time": "2023-08-24T09:10:40.466795",
     "status": "completed"
    },
    "tags": []
   },
   "source": [
    "## Splitting the data"
   ]
  },
  {
   "cell_type": "code",
   "execution_count": 11,
   "id": "bf273c51",
   "metadata": {
    "execution": {
     "iopub.execute_input": "2023-08-24T09:10:40.536925Z",
     "iopub.status.busy": "2023-08-24T09:10:40.536475Z",
     "iopub.status.idle": "2023-08-24T09:10:40.687705Z",
     "shell.execute_reply": "2023-08-24T09:10:40.686573Z"
    },
    "papermill": {
     "duration": 0.178007,
     "end_time": "2023-08-24T09:10:40.690689",
     "exception": false,
     "start_time": "2023-08-24T09:10:40.512682",
     "status": "completed"
    },
    "tags": []
   },
   "outputs": [],
   "source": [
    "new_train,new_test,y_tr,y_t = train_test_split(train_merge,y, test_size = 0.2,random_state=42)"
   ]
  },
  {
   "cell_type": "markdown",
   "id": "3a6c3363",
   "metadata": {
    "papermill": {
     "duration": 0.023797,
     "end_time": "2023-08-24T09:10:40.738545",
     "exception": false,
     "start_time": "2023-08-24T09:10:40.714748",
     "status": "completed"
    },
    "tags": []
   },
   "source": [
    "# Exploratory Data Analysis(EDA)"
   ]
  },
  {
   "cell_type": "code",
   "execution_count": 12,
   "id": "ab1ba796",
   "metadata": {
    "execution": {
     "iopub.execute_input": "2023-08-24T09:10:40.786596Z",
     "iopub.status.busy": "2023-08-24T09:10:40.786179Z",
     "iopub.status.idle": "2023-08-24T09:10:41.410475Z",
     "shell.execute_reply": "2023-08-24T09:10:41.408766Z"
    },
    "papermill": {
     "duration": 0.650413,
     "end_time": "2023-08-24T09:10:41.413057",
     "exception": false,
     "start_time": "2023-08-24T09:10:40.762644",
     "status": "completed"
    },
    "tags": []
   },
   "outputs": [
    {
     "name": "stdout",
     "output_type": "stream",
     "text": [
      "<class 'pandas.core.frame.DataFrame'>\n",
      "Int64Index: 130206 entries, 116975 to 121958\n",
      "Data columns (total 17 columns):\n",
      " #   Column                Non-Null Count   Dtype  \n",
      "---  ------                --------------   -----  \n",
      " 0   reviewText            124978 non-null  object \n",
      " 1   audienceScore         119589 non-null  float64\n",
      " 2   runtimeMinutes        127511 non-null  float64\n",
      " 3   genre                 128242 non-null  object \n",
      " 4   rating                79193 non-null   object \n",
      " 5   ratingContents        79193 non-null   object \n",
      " 6   distributor           97636 non-null   object \n",
      " 7   director              130206 non-null  object \n",
      " 8   originalLanguage      127558 non-null  object \n",
      " 9   soundType             61944 non-null   object \n",
      " 10  boxOffice             88020 non-null   object \n",
      " 11  reviewerName          130206 non-null  object \n",
      " 12  movieid               130206 non-null  object \n",
      " 13  title                 130206 non-null  object \n",
      " 14  isFrequentReviewer    130206 non-null  bool   \n",
      " 15  releaseDateStreaming  117290 non-null  object \n",
      " 16  sentiment             130206 non-null  object \n",
      "dtypes: bool(1), float64(2), object(14)\n",
      "memory usage: 17.0+ MB\n"
     ]
    }
   ],
   "source": [
    "new_train.info()"
   ]
  },
  {
   "cell_type": "code",
   "execution_count": 13,
   "id": "ecf7714e",
   "metadata": {
    "execution": {
     "iopub.execute_input": "2023-08-24T09:10:41.461477Z",
     "iopub.status.busy": "2023-08-24T09:10:41.461048Z",
     "iopub.status.idle": "2023-08-24T09:10:41.499686Z",
     "shell.execute_reply": "2023-08-24T09:10:41.498783Z"
    },
    "papermill": {
     "duration": 0.066001,
     "end_time": "2023-08-24T09:10:41.502066",
     "exception": false,
     "start_time": "2023-08-24T09:10:41.436065",
     "status": "completed"
    },
    "tags": []
   },
   "outputs": [
    {
     "data": {
      "text/html": [
       "<div>\n",
       "<style scoped>\n",
       "    .dataframe tbody tr th:only-of-type {\n",
       "        vertical-align: middle;\n",
       "    }\n",
       "\n",
       "    .dataframe tbody tr th {\n",
       "        vertical-align: top;\n",
       "    }\n",
       "\n",
       "    .dataframe thead th {\n",
       "        text-align: right;\n",
       "    }\n",
       "</style>\n",
       "<table border=\"1\" class=\"dataframe\">\n",
       "  <thead>\n",
       "    <tr style=\"text-align: right;\">\n",
       "      <th></th>\n",
       "      <th>audienceScore</th>\n",
       "      <th>runtimeMinutes</th>\n",
       "    </tr>\n",
       "  </thead>\n",
       "  <tbody>\n",
       "    <tr>\n",
       "      <th>count</th>\n",
       "      <td>119589.000000</td>\n",
       "      <td>127511.000000</td>\n",
       "    </tr>\n",
       "    <tr>\n",
       "      <th>mean</th>\n",
       "      <td>65.240030</td>\n",
       "      <td>106.889406</td>\n",
       "    </tr>\n",
       "    <tr>\n",
       "      <th>std</th>\n",
       "      <td>19.938553</td>\n",
       "      <td>22.170459</td>\n",
       "    </tr>\n",
       "    <tr>\n",
       "      <th>min</th>\n",
       "      <td>0.000000</td>\n",
       "      <td>4.000000</td>\n",
       "    </tr>\n",
       "    <tr>\n",
       "      <th>25%</th>\n",
       "      <td>51.000000</td>\n",
       "      <td>93.000000</td>\n",
       "    </tr>\n",
       "    <tr>\n",
       "      <th>50%</th>\n",
       "      <td>68.000000</td>\n",
       "      <td>104.000000</td>\n",
       "    </tr>\n",
       "    <tr>\n",
       "      <th>75%</th>\n",
       "      <td>82.000000</td>\n",
       "      <td>118.000000</td>\n",
       "    </tr>\n",
       "    <tr>\n",
       "      <th>max</th>\n",
       "      <td>100.000000</td>\n",
       "      <td>561.000000</td>\n",
       "    </tr>\n",
       "  </tbody>\n",
       "</table>\n",
       "</div>"
      ],
      "text/plain": [
       "       audienceScore  runtimeMinutes\n",
       "count  119589.000000   127511.000000\n",
       "mean       65.240030      106.889406\n",
       "std        19.938553       22.170459\n",
       "min         0.000000        4.000000\n",
       "25%        51.000000       93.000000\n",
       "50%        68.000000      104.000000\n",
       "75%        82.000000      118.000000\n",
       "max       100.000000      561.000000"
      ]
     },
     "execution_count": 13,
     "metadata": {},
     "output_type": "execute_result"
    }
   ],
   "source": [
    "new_train.describe()"
   ]
  },
  {
   "cell_type": "code",
   "execution_count": 14,
   "id": "928637ef",
   "metadata": {
    "execution": {
     "iopub.execute_input": "2023-08-24T09:10:41.549781Z",
     "iopub.status.busy": "2023-08-24T09:10:41.549003Z",
     "iopub.status.idle": "2023-08-24T09:10:41.555918Z",
     "shell.execute_reply": "2023-08-24T09:10:41.554801Z"
    },
    "papermill": {
     "duration": 0.033711,
     "end_time": "2023-08-24T09:10:41.558486",
     "exception": false,
     "start_time": "2023-08-24T09:10:41.524775",
     "status": "completed"
    },
    "tags": []
   },
   "outputs": [
    {
     "data": {
      "text/plain": [
       "(130206, 17)"
      ]
     },
     "execution_count": 14,
     "metadata": {},
     "output_type": "execute_result"
    }
   ],
   "source": [
    "new_train.shape"
   ]
  },
  {
   "cell_type": "code",
   "execution_count": 15,
   "id": "9b9f90c0",
   "metadata": {
    "execution": {
     "iopub.execute_input": "2023-08-24T09:10:41.607740Z",
     "iopub.status.busy": "2023-08-24T09:10:41.607347Z",
     "iopub.status.idle": "2023-08-24T09:10:42.191971Z",
     "shell.execute_reply": "2023-08-24T09:10:42.190430Z"
    },
    "papermill": {
     "duration": 0.613106,
     "end_time": "2023-08-24T09:10:42.194708",
     "exception": false,
     "start_time": "2023-08-24T09:10:41.581602",
     "status": "completed"
    },
    "tags": []
   },
   "outputs": [
    {
     "data": {
      "text/plain": [
       "reviewText               5228\n",
       "audienceScore           10617\n",
       "runtimeMinutes           2695\n",
       "genre                    1964\n",
       "rating                  51013\n",
       "ratingContents          51013\n",
       "distributor             32570\n",
       "director                    0\n",
       "originalLanguage         2648\n",
       "soundType               68262\n",
       "boxOffice               42186\n",
       "reviewerName                0\n",
       "movieid                     0\n",
       "title                       0\n",
       "isFrequentReviewer          0\n",
       "releaseDateStreaming    12916\n",
       "sentiment                   0\n",
       "dtype: int64"
      ]
     },
     "execution_count": 15,
     "metadata": {},
     "output_type": "execute_result"
    }
   ],
   "source": [
    "new_train.isna().sum()"
   ]
  },
  {
   "cell_type": "markdown",
   "id": "a2cba9dd",
   "metadata": {
    "papermill": {
     "duration": 0.023117,
     "end_time": "2023-08-24T09:10:42.241805",
     "exception": false,
     "start_time": "2023-08-24T09:10:42.218688",
     "status": "completed"
    },
    "tags": []
   },
   "source": [
    "# Visualisation:"
   ]
  },
  {
   "cell_type": "markdown",
   "id": "61f2a7b2",
   "metadata": {
    "papermill": {
     "duration": 0.022792,
     "end_time": "2023-08-24T09:10:42.287722",
     "exception": false,
     "start_time": "2023-08-24T09:10:42.264930",
     "status": "completed"
    },
    "tags": []
   },
   "source": [
    "## 1) 100% stacked bar chart"
   ]
  },
  {
   "cell_type": "code",
   "execution_count": 16,
   "id": "37d55e0b",
   "metadata": {
    "execution": {
     "iopub.execute_input": "2023-08-24T09:10:42.337069Z",
     "iopub.status.busy": "2023-08-24T09:10:42.336676Z",
     "iopub.status.idle": "2023-08-24T09:10:42.865768Z",
     "shell.execute_reply": "2023-08-24T09:10:42.864896Z"
    },
    "papermill": {
     "duration": 0.557485,
     "end_time": "2023-08-24T09:10:42.868189",
     "exception": false,
     "start_time": "2023-08-24T09:10:42.310704",
     "status": "completed"
    },
    "tags": []
   },
   "outputs": [
    {
     "data": {
      "image/png": "[encoded data removed]",
      "text/plain": [
       "<Figure size 1000x600 with 1 Axes>"
      ]
     },
     "metadata": {},
     "output_type": "display_data"
    }
   ],
   "source": [
    "selected_columns = [\"isFrequentReviewer\", \"sentiment\"]\n",
    "\n",
    "percentage_df = new_train.groupby(selected_columns).size().unstack()\n",
    "percentage_df = percentage_df.apply(lambda row: row / row.sum() * 100, axis=1)\n",
    "\n",
    "ax = percentage_df.plot(kind='bar', stacked=True, figsize=(10, 6))\n",
    "\n",
    "plt.xlabel(\"isFrequentReviewer\")\n",
    "plt.ylabel(\"Percentage\")\n",
    "plt.title(\"Stacked Bar Chart of isFrequentReviewer and Sentiment\")\n",
    "\n",
    "handles, labels = ax.get_legend_handles_labels()\n",
    "labels = ['Negative', 'Positive']\n",
    "ax.legend(handles, labels)\n",
    "\n",
    "plt.show()"
   ]
  },
  {
   "cell_type": "markdown",
   "id": "833eb622",
   "metadata": {
    "papermill": {
     "duration": 0.023926,
     "end_time": "2023-08-24T09:10:42.916079",
     "exception": false,
     "start_time": "2023-08-24T09:10:42.892153",
     "status": "completed"
    },
    "tags": []
   },
   "source": [
    "### Findings:Distribution of Positives and Negatives were almost equal for True and False"
   ]
  },
  {
   "cell_type": "markdown",
   "id": "0e6702c7",
   "metadata": {
    "papermill": {
     "duration": 0.023505,
     "end_time": "2023-08-24T09:10:42.963967",
     "exception": false,
     "start_time": "2023-08-24T09:10:42.940462",
     "status": "completed"
    },
    "tags": []
   },
   "source": [
    "## 2) Barplot Visualization:"
   ]
  },
  {
   "cell_type": "code",
   "execution_count": 17,
   "id": "d3fed629",
   "metadata": {
    "execution": {
     "iopub.execute_input": "2023-08-24T09:10:43.014106Z",
     "iopub.status.busy": "2023-08-24T09:10:43.013169Z",
     "iopub.status.idle": "2023-08-24T09:10:43.274315Z",
     "shell.execute_reply": "2023-08-24T09:10:43.273157Z"
    },
    "papermill": {
     "duration": 0.288993,
     "end_time": "2023-08-24T09:10:43.276769",
     "exception": false,
     "start_time": "2023-08-24T09:10:42.987776",
     "status": "completed"
    },
    "tags": []
   },
   "outputs": [
    {
     "name": "stdout",
     "output_type": "stream",
     "text": [
      "POSITIVE    86905\n",
      "NEGATIVE    43301\n",
      "Name: sentiment, dtype: int64\n"
     ]
    },
    {
     "data": {
      "image/png": "[encoded data removed]",
      "text/plain": [
       "<Figure size 640x480 with 1 Axes>"
      ]
     },
     "metadata": {},
     "output_type": "display_data"
    }
   ],
   "source": [
    "sentiment_counts = new_train['sentiment'].value_counts()\n",
    "print(sentiment_counts)\n",
    "sns.barplot(x=sentiment_counts.index, y=sentiment_counts.values)\n",
    "\n",
    "plt.xlabel('Sentiment')\n",
    "plt.ylabel('Count')\n",
    "plt.title('Sentiment Distribution')\n",
    "\n",
    "plt.show()"
   ]
  },
  {
   "cell_type": "markdown",
   "id": "a117952c",
   "metadata": {
    "papermill": {
     "duration": 0.024028,
     "end_time": "2023-08-24T09:10:43.325110",
     "exception": false,
     "start_time": "2023-08-24T09:10:43.301082",
     "status": "completed"
    },
    "tags": []
   },
   "source": [
    "### Findings: Positive sentiments are more than negatives"
   ]
  },
  {
   "cell_type": "markdown",
   "id": "d1876c75",
   "metadata": {
    "papermill": {
     "duration": 0.024589,
     "end_time": "2023-08-24T09:10:43.375333",
     "exception": false,
     "start_time": "2023-08-24T09:10:43.350744",
     "status": "completed"
    },
    "tags": []
   },
   "source": [
    "## 3) Heatmap Visualization of missing values:"
   ]
  },
  {
   "cell_type": "code",
   "execution_count": 18,
   "id": "ed8c3336",
   "metadata": {
    "execution": {
     "iopub.execute_input": "2023-08-24T09:10:43.427410Z",
     "iopub.status.busy": "2023-08-24T09:10:43.427034Z",
     "iopub.status.idle": "2023-08-24T09:10:46.924575Z",
     "shell.execute_reply": "2023-08-24T09:10:46.923647Z"
    },
    "papermill": {
     "duration": 3.526667,
     "end_time": "2023-08-24T09:10:46.926857",
     "exception": false,
     "start_time": "2023-08-24T09:10:43.400190",
     "status": "completed"
    },
    "tags": []
   },
   "outputs": [
    {
     "data": {
      "image/png": "[encoded data removed]",
      "text/plain": [
       "<Figure size 640x480 with 2 Axes>"
      ]
     },
     "metadata": {},
     "output_type": "display_data"
    }
   ],
   "source": [
    "sns.heatmap(new_train.isnull(), cmap='viridis')\n",
    "\n",
    "plt.title('Heatmap')\n",
    "\n",
    "plt.show()"
   ]
  },
  {
   "cell_type": "markdown",
   "id": "1dcf1426",
   "metadata": {
    "papermill": {
     "duration": 0.025115,
     "end_time": "2023-08-24T09:10:46.978315",
     "exception": false,
     "start_time": "2023-08-24T09:10:46.953200",
     "status": "completed"
    },
    "tags": []
   },
   "source": [
    "### Findings: It shows that only many columns has missing values"
   ]
  },
  {
   "cell_type": "markdown",
   "id": "5d7f940c",
   "metadata": {
    "papermill": {
     "duration": 0.025547,
     "end_time": "2023-08-24T09:10:47.029224",
     "exception": false,
     "start_time": "2023-08-24T09:10:47.003677",
     "status": "completed"
    },
    "tags": []
   },
   "source": [
    "## Distribution of Audience Score by Sentiment using Boxplot"
   ]
  },
  {
   "cell_type": "code",
   "execution_count": 19,
   "id": "a8edefea",
   "metadata": {
    "execution": {
     "iopub.execute_input": "2023-08-24T09:10:47.082962Z",
     "iopub.status.busy": "2023-08-24T09:10:47.082173Z",
     "iopub.status.idle": "2023-08-24T09:10:47.978038Z",
     "shell.execute_reply": "2023-08-24T09:10:47.976833Z"
    },
    "papermill": {
     "duration": 0.926094,
     "end_time": "2023-08-24T09:10:47.980994",
     "exception": false,
     "start_time": "2023-08-24T09:10:47.054900",
     "status": "completed"
    },
    "tags": []
   },
   "outputs": [
    {
     "data": {
      "image/png": "[encoded data removed]",
      "text/plain": [
       "<Figure size 700x500 with 1 Axes>"
      ]
     },
     "metadata": {},
     "output_type": "display_data"
    }
   ],
   "source": [
    "plt.figure(figsize=(7, 5))\n",
    "sns.boxplot(x='sentiment', y='audienceScore', data=new_train.dropna(), palette='Set3')\n",
    "plt.title('Distribution of Audience Score by Sentiment')\n",
    "plt.xlabel('Sentiment')\n",
    "plt.ylabel('Audience Score')\n",
    "plt.show()"
   ]
  },
  {
   "cell_type": "markdown",
   "id": "97a5d1d7",
   "metadata": {
    "papermill": {
     "duration": 0.025703,
     "end_time": "2023-08-24T09:10:48.033003",
     "exception": false,
     "start_time": "2023-08-24T09:10:48.007300",
     "status": "completed"
    },
    "tags": []
   },
   "source": [
    "### Findings: If the Audience Score falls below 40 or rises above 72, the sentiment is categorized as 'POSITIVE'"
   ]
  },
  {
   "cell_type": "markdown",
   "id": "b005cc91",
   "metadata": {
    "papermill": {
     "duration": 0.025653,
     "end_time": "2023-08-24T09:10:48.085126",
     "exception": false,
     "start_time": "2023-08-24T09:10:48.059473",
     "status": "completed"
    },
    "tags": []
   },
   "source": [
    "# Data Preprocessing "
   ]
  },
  {
   "cell_type": "code",
   "execution_count": 20,
   "id": "27184efc",
   "metadata": {
    "execution": {
     "iopub.execute_input": "2023-08-24T09:10:48.139315Z",
     "iopub.status.busy": "2023-08-24T09:10:48.138244Z",
     "iopub.status.idle": "2023-08-24T09:10:48.173261Z",
     "shell.execute_reply": "2023-08-24T09:10:48.172394Z"
    },
    "papermill": {
     "duration": 0.064954,
     "end_time": "2023-08-24T09:10:48.176059",
     "exception": false,
     "start_time": "2023-08-24T09:10:48.111105",
     "status": "completed"
    },
    "tags": []
   },
   "outputs": [
    {
     "name": "stderr",
     "output_type": "stream",
     "text": [
      "/tmp/ipykernel_20/1134994539.py:7: SettingWithCopyWarning: \n",
      "A value is trying to be set on a copy of a slice from a DataFrame.\n",
      "Try using .loc[row_indexer,col_indexer] = value instead\n",
      "\n",
      "See the caveats in the documentation: https://pandas.pydata.org/pandas-docs/stable/user_guide/indexing.html#returning-a-view-versus-a-copy\n",
      "  test_final['audienceScore'] = imp1.transform(test_final[['audienceScore']])\n"
     ]
    }
   ],
   "source": [
    "# Creating a SimpleImputer object for 'audienceScore' /outliers will not effect\n",
    "imp1 = SimpleImputer(strategy='median', missing_values=np.nan)\n",
    "\n",
    "# Impute missing values for 'audienceScore' column in new_train and new_test\n",
    "new_train['audienceScore'] = imp1.fit_transform(new_train[['audienceScore']])\n",
    "new_test['audienceScore'] = imp1.transform(new_test[['audienceScore']])\n",
    "test_final['audienceScore'] = imp1.transform(test_final[['audienceScore']])\n"
   ]
  },
  {
   "cell_type": "code",
   "execution_count": 21,
   "id": "7c3472ce",
   "metadata": {
    "execution": {
     "iopub.execute_input": "2023-08-24T09:10:48.230129Z",
     "iopub.status.busy": "2023-08-24T09:10:48.229729Z",
     "iopub.status.idle": "2023-08-24T09:10:48.254009Z",
     "shell.execute_reply": "2023-08-24T09:10:48.252343Z"
    },
    "papermill": {
     "duration": 0.054252,
     "end_time": "2023-08-24T09:10:48.256753",
     "exception": false,
     "start_time": "2023-08-24T09:10:48.202501",
     "status": "completed"
    },
    "tags": []
   },
   "outputs": [
    {
     "name": "stderr",
     "output_type": "stream",
     "text": [
      "/tmp/ipykernel_20/4265997976.py:5: SettingWithCopyWarning: \n",
      "A value is trying to be set on a copy of a slice from a DataFrame.\n",
      "Try using .loc[row_indexer,col_indexer] = value instead\n",
      "\n",
      "See the caveats in the documentation: https://pandas.pydata.org/pandas-docs/stable/user_guide/indexing.html#returning-a-view-versus-a-copy\n",
      "  test_final['runtimeMinutes'] = imp2.transform(test_final[['runtimeMinutes']])\n"
     ]
    }
   ],
   "source": [
    "# Creating a SimpleImputer object for 'runtimeMinutes'\n",
    "imp2 = SimpleImputer(strategy = 'mean' , missing_values= np.nan)\n",
    "new_train['runtimeMinutes'] = imp2.fit_transform(new_train[['runtimeMinutes']])\n",
    "new_test['runtimeMinutes'] = imp2.transform(new_test[['runtimeMinutes']])\n",
    "test_final['runtimeMinutes'] = imp2.transform(test_final[['runtimeMinutes']])"
   ]
  },
  {
   "cell_type": "code",
   "execution_count": 22,
   "id": "5139c7e6",
   "metadata": {
    "execution": {
     "iopub.execute_input": "2023-08-24T09:10:48.311621Z",
     "iopub.status.busy": "2023-08-24T09:10:48.311205Z",
     "iopub.status.idle": "2023-08-24T09:10:48.448114Z",
     "shell.execute_reply": "2023-08-24T09:10:48.446861Z"
    },
    "papermill": {
     "duration": 0.167341,
     "end_time": "2023-08-24T09:10:48.451144",
     "exception": false,
     "start_time": "2023-08-24T09:10:48.283803",
     "status": "completed"
    },
    "tags": []
   },
   "outputs": [
    {
     "name": "stderr",
     "output_type": "stream",
     "text": [
      "/tmp/ipykernel_20/1765282954.py:13: SettingWithCopyWarning: \n",
      "A value is trying to be set on a copy of a slice from a DataFrame.\n",
      "Try using .loc[row_indexer,col_indexer] = value instead\n",
      "\n",
      "See the caveats in the documentation: https://pandas.pydata.org/pandas-docs/stable/user_guide/indexing.html#returning-a-view-versus-a-copy\n",
      "  test_final.loc[:, columns_to_scale] = scler.transform(test_final[columns_to_scale].values)\n"
     ]
    }
   ],
   "source": [
    "# Create a StandardScaler instance\n",
    "scler = StandardScaler()\n",
    "\n",
    "# Columns to scale\n",
    "columns_to_scale = ['audienceScore', 'runtimeMinutes']\n",
    "\n",
    "# Scale selected columns in new_train\n",
    "new_train.loc[:, columns_to_scale] = scler.fit_transform(new_train[columns_to_scale].values)\n",
    "\n",
    "# Scale selected columns in new_test using the mean and variance from new_train\n",
    "new_test.loc[:, columns_to_scale] = scler.transform(new_test[columns_to_scale].values)\n",
    "\n",
    "test_final.loc[:, columns_to_scale] = scler.transform(test_final[columns_to_scale].values)\n"
   ]
  },
  {
   "cell_type": "code",
   "execution_count": 23,
   "id": "6d46da3c",
   "metadata": {
    "execution": {
     "iopub.execute_input": "2023-08-24T09:10:48.505874Z",
     "iopub.status.busy": "2023-08-24T09:10:48.505482Z",
     "iopub.status.idle": "2023-08-24T09:10:49.030488Z",
     "shell.execute_reply": "2023-08-24T09:10:49.029280Z"
    },
    "papermill": {
     "duration": 0.555641,
     "end_time": "2023-08-24T09:10:49.033190",
     "exception": false,
     "start_time": "2023-08-24T09:10:48.477549",
     "status": "completed"
    },
    "tags": []
   },
   "outputs": [
    {
     "name": "stderr",
     "output_type": "stream",
     "text": [
      "/tmp/ipykernel_20/661157807.py:3: FutureWarning: The default value of regex will change from True to False in a future version. In addition, single character regular expressions will *not* be treated as literal strings when regex=True.\n",
      "  column = column.str.replace('$', '')\n",
      "/tmp/ipykernel_20/661157807.py:3: FutureWarning: The default value of regex will change from True to False in a future version. In addition, single character regular expressions will *not* be treated as literal strings when regex=True.\n",
      "  column = column.str.replace('$', '')\n",
      "/tmp/ipykernel_20/661157807.py:3: FutureWarning: The default value of regex will change from True to False in a future version. In addition, single character regular expressions will *not* be treated as literal strings when regex=True.\n",
      "  column = column.str.replace('$', '')\n",
      "/tmp/ipykernel_20/661157807.py:14: SettingWithCopyWarning: \n",
      "A value is trying to be set on a copy of a slice from a DataFrame.\n",
      "Try using .loc[row_indexer,col_indexer] = value instead\n",
      "\n",
      "See the caveats in the documentation: https://pandas.pydata.org/pandas-docs/stable/user_guide/indexing.html#returning-a-view-versus-a-copy\n",
      "  test_final['boxOffice'] = preprocess_box_office(test_final['boxOffice'])\n"
     ]
    }
   ],
   "source": [
    "def preprocess_box_office(column):\n",
    "    column = column.astype(str) \n",
    "    column = column.str.replace('$', '')\n",
    "    column = column.str.replace('K', '000')\n",
    "    column = column.str.replace('M', '000000')\n",
    "    \n",
    "    column = column.astype(float)\n",
    "    median_value = column.median()\n",
    "    column = column.fillna(value=median_value)\n",
    "    return column\n",
    "\n",
    "new_train['boxOffice'] = preprocess_box_office(new_train['boxOffice'])\n",
    "new_test['boxOffice'] = preprocess_box_office(new_test['boxOffice'])\n",
    "test_final['boxOffice'] = preprocess_box_office(test_final['boxOffice'])\n"
   ]
  },
  {
   "cell_type": "markdown",
   "id": "11ba6621",
   "metadata": {
    "papermill": {
     "duration": 0.027747,
     "end_time": "2023-08-24T09:10:49.088395",
     "exception": false,
     "start_time": "2023-08-24T09:10:49.060648",
     "status": "completed"
    },
    "tags": []
   },
   "source": [
    "## Used feature extraction on releaseDateStreaming"
   ]
  },
  {
   "cell_type": "code",
   "execution_count": 24,
   "id": "aedb987f",
   "metadata": {
    "execution": {
     "iopub.execute_input": "2023-08-24T09:10:49.144680Z",
     "iopub.status.busy": "2023-08-24T09:10:49.144276Z",
     "iopub.status.idle": "2023-08-24T09:10:49.462778Z",
     "shell.execute_reply": "2023-08-24T09:10:49.461660Z"
    },
    "papermill": {
     "duration": 0.350217,
     "end_time": "2023-08-24T09:10:49.465628",
     "exception": false,
     "start_time": "2023-08-24T09:10:49.115411",
     "status": "completed"
    },
    "tags": []
   },
   "outputs": [
    {
     "name": "stderr",
     "output_type": "stream",
     "text": [
      "/tmp/ipykernel_20/2878074779.py:2: SettingWithCopyWarning: \n",
      "A value is trying to be set on a copy of a slice from a DataFrame.\n",
      "Try using .loc[row_indexer,col_indexer] = value instead\n",
      "\n",
      "See the caveats in the documentation: https://pandas.pydata.org/pandas-docs/stable/user_guide/indexing.html#returning-a-view-versus-a-copy\n",
      "  df[column_name] = pd.to_datetime(df[column_name])\n"
     ]
    }
   ],
   "source": [
    "def extract_date_features(df, column_name):\n",
    "    df[column_name] = pd.to_datetime(df[column_name])\n",
    "    df['day'] = df[column_name].dt.day\n",
    "    df['month'] = df[column_name].dt.month\n",
    "    df['year'] = df[column_name].dt.year\n",
    "\n",
    "# Apply the function to both new_train and new_test DataFrames\n",
    "extract_date_features(new_train, 'releaseDateStreaming')\n",
    "extract_date_features(new_test, 'releaseDateStreaming')\n",
    "extract_date_features(test_final, 'releaseDateStreaming')\n",
    "\n",
    "date_features = ['day', 'month', 'year']\n",
    "\n",
    "for feature in date_features:\n",
    "    new_train[feature] = imp1.fit_transform(new_train[[feature]])\n",
    "    new_test[feature] = imp1.transform(new_test[[feature]])\n",
    "    test_final[feature] = imp1.transform(test_final[[feature]])\n",
    "    "
   ]
  },
  {
   "cell_type": "code",
   "execution_count": 25,
   "id": "0e96fdfd",
   "metadata": {
    "execution": {
     "iopub.execute_input": "2023-08-24T09:10:49.520164Z",
     "iopub.status.busy": "2023-08-24T09:10:49.519745Z",
     "iopub.status.idle": "2023-08-24T09:10:51.802311Z",
     "shell.execute_reply": "2023-08-24T09:10:51.801187Z"
    },
    "papermill": {
     "duration": 2.313014,
     "end_time": "2023-08-24T09:10:51.805012",
     "exception": false,
     "start_time": "2023-08-24T09:10:49.491998",
     "status": "completed"
    },
    "tags": []
   },
   "outputs": [
    {
     "name": "stdout",
     "output_type": "stream",
     "text": [
      "Missing values before imputation in new_train dataset\n",
      "reviewText               5228\n",
      "audienceScore               0\n",
      "runtimeMinutes              0\n",
      "genre                    1964\n",
      "rating                  51013\n",
      "ratingContents          51013\n",
      "distributor             32570\n",
      "director                    0\n",
      "originalLanguage         2648\n",
      "soundType               68262\n",
      "boxOffice                   0\n",
      "reviewerName                0\n",
      "movieid                     0\n",
      "title                       0\n",
      "isFrequentReviewer          0\n",
      "releaseDateStreaming    12916\n",
      "sentiment                   0\n",
      "day                         0\n",
      "month                       0\n",
      "year                        0\n",
      "dtype: int64\n",
      "Missing values before imputation in new_test dataset\n",
      "reviewText               1219\n",
      "audienceScore               0\n",
      "runtimeMinutes              0\n",
      "genre                     474\n",
      "rating                  12711\n",
      "ratingContents          12711\n",
      "distributor              8093\n",
      "director                    0\n",
      "originalLanguage          642\n",
      "soundType               17105\n",
      "boxOffice                   0\n",
      "reviewerName                0\n",
      "movieid                     0\n",
      "title                       0\n",
      "isFrequentReviewer          0\n",
      "releaseDateStreaming     3269\n",
      "sentiment                   0\n",
      "day                         0\n",
      "month                       0\n",
      "year                        0\n",
      "dtype: int64\n",
      "Missing values before imputation in test_final dataset\n",
      "reviewText               2510\n",
      "audienceScore               0\n",
      "runtimeMinutes              0\n",
      "genre                     920\n",
      "rating                  24296\n",
      "ratingContents          24296\n",
      "distributor             15596\n",
      "director                    0\n",
      "originalLanguage         1238\n",
      "soundType               30626\n",
      "boxOffice                   0\n",
      "reviewerName                0\n",
      "movieid                     0\n",
      "title                       0\n",
      "isFrequentReviewer          0\n",
      "releaseDateStreaming     5974\n",
      "day                         0\n",
      "month                       0\n",
      "year                        0\n",
      "dtype: int64\n",
      "Missing values after imputation in new_train dataset\n",
      "reviewText                  0\n",
      "audienceScore               0\n",
      "runtimeMinutes              0\n",
      "genre                       0\n",
      "rating                      0\n",
      "ratingContents              0\n",
      "distributor                 0\n",
      "director                    0\n",
      "originalLanguage            0\n",
      "soundType                   0\n",
      "boxOffice                   0\n",
      "reviewerName                0\n",
      "movieid                     0\n",
      "title                       0\n",
      "isFrequentReviewer          0\n",
      "releaseDateStreaming    12916\n",
      "sentiment                   0\n",
      "day                         0\n",
      "month                       0\n",
      "year                        0\n",
      "dtype: int64\n",
      "Missing values after imputation in new_test dataset\n",
      "reviewText                 0\n",
      "audienceScore              0\n",
      "runtimeMinutes             0\n",
      "genre                      0\n",
      "rating                     0\n",
      "ratingContents             0\n",
      "distributor                0\n",
      "director                   0\n",
      "originalLanguage           0\n",
      "soundType                  0\n",
      "boxOffice                  0\n",
      "reviewerName               0\n",
      "movieid                    0\n",
      "title                      0\n",
      "isFrequentReviewer         0\n",
      "releaseDateStreaming    3269\n",
      "sentiment                  0\n",
      "day                        0\n",
      "month                      0\n",
      "year                       0\n",
      "dtype: int64\n",
      "Missing values after imputation in test_final dataset\n",
      "reviewText                 0\n",
      "audienceScore              0\n",
      "runtimeMinutes             0\n",
      "genre                      0\n",
      "rating                     0\n",
      "ratingContents             0\n",
      "distributor                0\n",
      "director                   0\n",
      "originalLanguage           0\n",
      "soundType                  0\n",
      "boxOffice                  0\n",
      "reviewerName               0\n",
      "movieid                    0\n",
      "title                      0\n",
      "isFrequentReviewer         0\n",
      "releaseDateStreaming    5974\n",
      "day                        0\n",
      "month                      0\n",
      "year                       0\n",
      "dtype: int64\n"
     ]
    }
   ],
   "source": [
    "print(\"Missing values before imputation in new_train dataset\")\n",
    "print(new_train.isna().sum())\n",
    "\n",
    "print(\"Missing values before imputation in new_test dataset\")\n",
    "print(new_test.isna().sum())\n",
    "\n",
    "print(\"Missing values before imputation in test_final dataset\")\n",
    "print(test_final.isna().sum())\n",
    "\n",
    "text_columns = ['reviewText', 'genre','rating', 'ratingContents','distributor' ,'director', 'originalLanguage', 'soundType','reviewerName','movieid','title','isFrequentReviewer']\n",
    "for column in text_columns:\n",
    "    new_train[column] = new_train[column].fillna(value='')\n",
    "    new_test[column] = new_test[column].fillna(value='')\n",
    "    test_final[column] = test_final[column].fillna(value='')\n",
    "\n",
    "print(\"Missing values after imputation in new_train dataset\")\n",
    "print(new_train.isna().sum())\n",
    "\n",
    "print(\"Missing values after imputation in new_test dataset\")\n",
    "print(new_test.isna().sum())\n",
    "\n",
    "print(\"Missing values after imputation in test_final dataset\")\n",
    "print(test_final.isna().sum())"
   ]
  },
  {
   "cell_type": "markdown",
   "id": "5a516925",
   "metadata": {
    "papermill": {
     "duration": 0.027075,
     "end_time": "2023-08-24T09:10:51.859665",
     "exception": false,
     "start_time": "2023-08-24T09:10:51.832590",
     "status": "completed"
    },
    "tags": []
   },
   "source": [
    "# Text preprocessing with TF-IDF :"
   ]
  },
  {
   "cell_type": "code",
   "execution_count": 26,
   "id": "f5bae475",
   "metadata": {
    "execution": {
     "iopub.execute_input": "2023-08-24T09:10:51.916389Z",
     "iopub.status.busy": "2023-08-24T09:10:51.915958Z",
     "iopub.status.idle": "2023-08-24T09:11:27.763613Z",
     "shell.execute_reply": "2023-08-24T09:11:27.762534Z"
    },
    "papermill": {
     "duration": 35.879848,
     "end_time": "2023-08-24T09:11:27.766953",
     "exception": false,
     "start_time": "2023-08-24T09:10:51.887105",
     "status": "completed"
    },
    "tags": []
   },
   "outputs": [],
   "source": [
    "# Combine selected columns into a single text column\n",
    "text_columns = ['reviewText', 'genre', 'ratingContents', 'director', 'originalLanguage', 'soundType',\n",
    "                'reviewerName', 'movieid', 'title', 'isFrequentReviewer']\n",
    "new_train['combined_text'] = new_train[text_columns].astype(str).apply(' '.join, axis=1)\n",
    "new_test['combined_text'] = new_test[text_columns].astype(str).apply(' '.join, axis=1)\n",
    "test_final['combined_text'] = test_final[text_columns].astype(str).apply(' '.join, axis=1)\n",
    "\n",
    "# Initialize and fit the TF-IDF vectorizer\n",
    "vectorizer = TfidfVectorizer(lowercase=True, stop_words='english', ngram_range=(1, 2))\n",
    "train_vector = vectorizer.fit_transform(new_train['combined_text'])\n",
    "test_vector = vectorizer.transform(new_test['combined_text'])\n",
    "vector_final = vectorizer.transform(test_final['combined_text'])\n"
   ]
  },
  {
   "cell_type": "markdown",
   "id": "28c1f7c4",
   "metadata": {
    "papermill": {
     "duration": 0.027083,
     "end_time": "2023-08-24T09:11:27.822891",
     "exception": false,
     "start_time": "2023-08-24T09:11:27.795808",
     "status": "completed"
    },
    "tags": []
   },
   "source": [
    "### Dropping the already processed columns."
   ]
  },
  {
   "cell_type": "code",
   "execution_count": 27,
   "id": "cbed798b",
   "metadata": {
    "execution": {
     "iopub.execute_input": "2023-08-24T09:11:27.879889Z",
     "iopub.status.busy": "2023-08-24T09:11:27.879462Z",
     "iopub.status.idle": "2023-08-24T09:11:27.921457Z",
     "shell.execute_reply": "2023-08-24T09:11:27.920045Z"
    },
    "papermill": {
     "duration": 0.073319,
     "end_time": "2023-08-24T09:11:27.924303",
     "exception": false,
     "start_time": "2023-08-24T09:11:27.850984",
     "status": "completed"
    },
    "tags": []
   },
   "outputs": [],
   "source": [
    "# Drop unnecessary columns\n",
    "columns_to_drop = text_columns + ['rating', 'distributor', 'boxOffice', 'releaseDateStreaming',\n",
    "                                  'day', 'month', 'year']\n",
    "new_train.drop(columns=columns_to_drop + ['combined_text','sentiment'], inplace=True)\n",
    "new_test.drop(columns=columns_to_drop + ['combined_text','sentiment'], inplace=True)\n",
    "test_final.drop(columns=columns_to_drop + ['combined_text'], inplace=True)"
   ]
  },
  {
   "cell_type": "markdown",
   "id": "94683ce2",
   "metadata": {
    "papermill": {
     "duration": 0.028618,
     "end_time": "2023-08-24T09:11:27.980468",
     "exception": false,
     "start_time": "2023-08-24T09:11:27.951850",
     "status": "completed"
    },
    "tags": []
   },
   "source": [
    " ### Horizontally stack a TF-IDF sparse matrix with a sparse matrix derived from new_train or new_test."
   ]
  },
  {
   "cell_type": "code",
   "execution_count": 28,
   "id": "7b0fe150",
   "metadata": {
    "execution": {
     "iopub.execute_input": "2023-08-24T09:11:28.037953Z",
     "iopub.status.busy": "2023-08-24T09:11:28.036814Z",
     "iopub.status.idle": "2023-08-24T09:11:28.235999Z",
     "shell.execute_reply": "2023-08-24T09:11:28.234752Z"
    },
    "papermill": {
     "duration": 0.231009,
     "end_time": "2023-08-24T09:11:28.238736",
     "exception": false,
     "start_time": "2023-08-24T09:11:28.007727",
     "status": "completed"
    },
    "tags": []
   },
   "outputs": [],
   "source": [
    "from scipy.sparse import hstack,csr_matrix \n",
    "X = hstack([train_vector, csr_matrix(new_train)])\n",
    "X_test = hstack([test_vector, csr_matrix(new_test)])\n",
    "X_test_final = hstack([vector_final, csr_matrix(test_final)])"
   ]
  },
  {
   "cell_type": "markdown",
   "id": "2ccc69fa",
   "metadata": {
    "papermill": {
     "duration": 0.026782,
     "end_time": "2023-08-24T09:11:28.293445",
     "exception": false,
     "start_time": "2023-08-24T09:11:28.266663",
     "status": "completed"
    },
    "tags": []
   },
   "source": [
    "# Model Conclusion:\n",
    "Best Score is 0.82762\n",
    "\n",
    "1) LinearSVC is best model so far, with hyperparameters\n",
    "\n",
    "2) 2nd best model Logistic regression with Hyperparameter Tunning\n",
    "\n",
    "3) 3rd  Best Model is Ridge Classifier\n"
   ]
  },
  {
   "cell_type": "markdown",
   "id": "fc77b164",
   "metadata": {
    "papermill": {
     "duration": 0.027186,
     "end_time": "2023-08-24T09:11:28.347684",
     "exception": false,
     "start_time": "2023-08-24T09:11:28.320498",
     "status": "completed"
    },
    "tags": []
   },
   "source": [
    "# Model:0 Baseline Model"
   ]
  },
  {
   "cell_type": "code",
   "execution_count": 29,
   "id": "a5076119",
   "metadata": {
    "execution": {
     "iopub.execute_input": "2023-08-24T09:11:28.403442Z",
     "iopub.status.busy": "2023-08-24T09:11:28.403030Z",
     "iopub.status.idle": "2023-08-24T09:11:28.409436Z",
     "shell.execute_reply": "2023-08-24T09:11:28.408624Z"
    },
    "papermill": {
     "duration": 0.037027,
     "end_time": "2023-08-24T09:11:28.411678",
     "exception": false,
     "start_time": "2023-08-24T09:11:28.374651",
     "status": "completed"
    },
    "tags": []
   },
   "outputs": [
    {
     "data": {
      "text/plain": [
       "\"\\nmodel = DummyClassifier(strategy = 'most_frequent')\\nmodel.fit(X,y_tr)\\nmodel.score(X,y_tr)\\n\""
      ]
     },
     "execution_count": 29,
     "metadata": {},
     "output_type": "execute_result"
    }
   ],
   "source": [
    "\"\"\"\n",
    "model = DummyClassifier(strategy = 'most_frequent')\n",
    "model.fit(X,y_tr)\n",
    "model.score(X,y_tr)\n",
    "\"\"\""
   ]
  },
  {
   "cell_type": "markdown",
   "id": "061e3fa2",
   "metadata": {
    "papermill": {
     "duration": 0.028082,
     "end_time": "2023-08-24T09:11:28.467873",
     "exception": false,
     "start_time": "2023-08-24T09:11:28.439791",
     "status": "completed"
    },
    "tags": []
   },
   "source": [
    "Dummy model score: 0.6682261037479154"
   ]
  },
  {
   "cell_type": "markdown",
   "id": "ef09890f",
   "metadata": {
    "papermill": {
     "duration": 0.026879,
     "end_time": "2023-08-24T09:11:28.522678",
     "exception": false,
     "start_time": "2023-08-24T09:11:28.495799",
     "status": "completed"
    },
    "tags": []
   },
   "source": [
    "# Model:1 Logistic Regression"
   ]
  },
  {
   "cell_type": "markdown",
   "id": "ea46a25a",
   "metadata": {
    "papermill": {
     "duration": 0.026893,
     "end_time": "2023-08-24T09:11:28.576748",
     "exception": false,
     "start_time": "2023-08-24T09:11:28.549855",
     "status": "completed"
    },
    "tags": []
   },
   "source": [
    "Accuracy Score 0.8075387072990907"
   ]
  },
  {
   "cell_type": "code",
   "execution_count": 30,
   "id": "f099b464",
   "metadata": {
    "execution": {
     "iopub.execute_input": "2023-08-24T09:11:28.632928Z",
     "iopub.status.busy": "2023-08-24T09:11:28.632447Z",
     "iopub.status.idle": "2023-08-24T09:11:28.639616Z",
     "shell.execute_reply": "2023-08-24T09:11:28.638560Z"
    },
    "papermill": {
     "duration": 0.038134,
     "end_time": "2023-08-24T09:11:28.641961",
     "exception": false,
     "start_time": "2023-08-24T09:11:28.603827",
     "status": "completed"
    },
    "tags": []
   },
   "outputs": [
    {
     "data": {
      "text/plain": [
       "\"from sklearn.linear_model import LogisticRegression\\n\\nlg=LogisticRegression()\\nlg.fit(X,y_tr)\\n\\nypred=lg.predict(X_test)\\n\\nprint('Accuracy Score',accuracy_score(y_t,ypred))\\n\\nprint('Classification_report')\\nprint(classification_report(y_t,ypred))\\nprint('Confusion Matrix')\\nprint(confusion_matrix(y_t, ypred))\\n\\nprint('F1_Score',f1_score(ypred, y_t,pos_label='POSITIVE'))\""
      ]
     },
     "execution_count": 30,
     "metadata": {},
     "output_type": "execute_result"
    }
   ],
   "source": [
    "\n",
    "\"\"\"from sklearn.linear_model import LogisticRegression\n",
    "\n",
    "lg=LogisticRegression()\n",
    "lg.fit(X,y_tr)\n",
    "\n",
    "ypred=lg.predict(X_test)\n",
    "\n",
    "print('Accuracy Score',accuracy_score(y_t,ypred))\n",
    "\n",
    "print('Classification_report')\n",
    "print(classification_report(y_t,ypred))\n",
    "print('Confusion Matrix')\n",
    "print(confusion_matrix(y_t, ypred))\n",
    "\n",
    "print('F1_Score',f1_score(ypred, y_t,pos_label='POSITIVE'))\"\"\""
   ]
  },
  {
   "cell_type": "markdown",
   "id": "a2aebc88",
   "metadata": {
    "papermill": {
     "duration": 0.027741,
     "end_time": "2023-08-24T09:11:28.697841",
     "exception": false,
     "start_time": "2023-08-24T09:11:28.670100",
     "status": "completed"
    },
    "tags": []
   },
   "source": [
    "Accuracy Score 0.8075387072990907\n",
    "Classification_report\n",
    "              precision    recall  f1-score   support\n",
    "\n",
    "    NEGATIVE       0.77      0.59      0.67     10696\n",
    "    POSITIVE       0.82      0.91      0.86     21856\n",
    "\n",
    "    accuracy                           0.81     32552\n",
    "   macro avg       0.79      0.75      0.77     32552\n",
    "weighted avg       0.80      0.81      0.80     32552\n",
    "\n",
    "Confusion Matrix\n",
    "[[ 6330  4366]\n",
    " [ 1899 19957]]\n",
    "F1_Score 0.8643322722449598"
   ]
  },
  {
   "cell_type": "markdown",
   "id": "753bc539",
   "metadata": {
    "papermill": {
     "duration": 0.02752,
     "end_time": "2023-08-24T09:11:28.753151",
     "exception": false,
     "start_time": "2023-08-24T09:11:28.725631",
     "status": "completed"
    },
    "tags": []
   },
   "source": [
    "# Hyper Parameter Tuning for Logistic Regression"
   ]
  },
  {
   "cell_type": "code",
   "execution_count": 31,
   "id": "1a653807",
   "metadata": {
    "execution": {
     "iopub.execute_input": "2023-08-24T09:11:28.811787Z",
     "iopub.status.busy": "2023-08-24T09:11:28.811375Z",
     "iopub.status.idle": "2023-08-24T09:11:28.819407Z",
     "shell.execute_reply": "2023-08-24T09:11:28.818043Z"
    },
    "papermill": {
     "duration": 0.039896,
     "end_time": "2023-08-24T09:11:28.821834",
     "exception": false,
     "start_time": "2023-08-24T09:11:28.781938",
     "status": "completed"
    },
    "tags": []
   },
   "outputs": [
    {
     "data": {
      "text/plain": [
       "\"pipe = Pipeline([\\n    ('model', LogisticRegression())\\n])\\n\\nparam_dist = {\\n    'model__C': uniform(0.1, 1.0),\\n    'model__max_iter': [100, 200, 500],\\n    'model__penalty': ['l1', 'l2'],\\n    'model__solver': ['liblinear', 'saga']\\n}\\n\\nrandom_search = RandomizedSearchCV(pipe, param_distributions=param_dist, n_iter=10,scoring='f1_micro', cv=2, n_jobs=-1, verbose=1,random_state=42)\\nrandom_search.fit(X, y_tr)\\n\\nbest_params = random_search.best_params_\\nbest_model = random_search.best_estimator_\\n\\n\""
      ]
     },
     "execution_count": 31,
     "metadata": {},
     "output_type": "execute_result"
    }
   ],
   "source": [
    "\"\"\"pipe = Pipeline([\n",
    "    ('model', LogisticRegression())\n",
    "])\n",
    "\n",
    "param_dist = {\n",
    "    'model__C': uniform(0.1, 1.0),\n",
    "    'model__max_iter': [100, 200, 500],\n",
    "    'model__penalty': ['l1', 'l2'],\n",
    "    'model__solver': ['liblinear', 'saga']\n",
    "}\n",
    "\n",
    "random_search = RandomizedSearchCV(pipe, param_distributions=param_dist, n_iter=10,scoring='f1_micro', cv=2, n_jobs=-1, verbose=1,random_state=42)\n",
    "random_search.fit(X, y_tr)\n",
    "\n",
    "best_params = random_search.best_params_\n",
    "best_model = random_search.best_estimator_\n",
    "\n",
    "\"\"\""
   ]
  },
  {
   "cell_type": "code",
   "execution_count": 32,
   "id": "b4cee1dc",
   "metadata": {
    "execution": {
     "iopub.execute_input": "2023-08-24T09:11:28.880387Z",
     "iopub.status.busy": "2023-08-24T09:11:28.879949Z",
     "iopub.status.idle": "2023-08-24T09:11:28.886096Z",
     "shell.execute_reply": "2023-08-24T09:11:28.885296Z"
    },
    "papermill": {
     "duration": 0.038372,
     "end_time": "2023-08-24T09:11:28.888203",
     "exception": false,
     "start_time": "2023-08-24T09:11:28.849831",
     "status": "completed"
    },
    "tags": []
   },
   "outputs": [
    {
     "data": {
      "text/plain": [
       "\"print('Logistic Regression HPT',best_params)\\nprint('Best Model : Logistic Regression',best_model)\""
      ]
     },
     "execution_count": 32,
     "metadata": {},
     "output_type": "execute_result"
    }
   ],
   "source": [
    "\"\"\"print('Logistic Regression HPT',best_params)\n",
    "print('Best Model : Logistic Regression',best_model)\"\"\""
   ]
  },
  {
   "cell_type": "markdown",
   "id": "1556742b",
   "metadata": {
    "papermill": {
     "duration": 0.027667,
     "end_time": "2023-08-24T09:11:28.943767",
     "exception": false,
     "start_time": "2023-08-24T09:11:28.916100",
     "status": "completed"
    },
    "tags": []
   },
   "source": [
    "Logistic Regression HPT {'model__C': 0.8851759613930136, 'model__max_iter': 500, 'model__penalty': 'l2', 'model__solver': 'liblinear'}\n",
    "Best Model : Logistic Regression Pipeline(steps=[('model',\n",
    "                 LogisticRegression(C=0.8851759613930136, max_iter=500,\n",
    "                                    solver='liblinear'))])"
   ]
  },
  {
   "cell_type": "markdown",
   "id": "e1748255",
   "metadata": {
    "papermill": {
     "duration": 0.027548,
     "end_time": "2023-08-24T09:11:28.999044",
     "exception": false,
     "start_time": "2023-08-24T09:11:28.971496",
     "status": "completed"
    },
    "tags": []
   },
   "source": [
    "# Training model after HPT"
   ]
  },
  {
   "cell_type": "code",
   "execution_count": 33,
   "id": "903c8270",
   "metadata": {
    "execution": {
     "iopub.execute_input": "2023-08-24T09:11:29.057339Z",
     "iopub.status.busy": "2023-08-24T09:11:29.055976Z",
     "iopub.status.idle": "2023-08-24T09:11:29.064496Z",
     "shell.execute_reply": "2023-08-24T09:11:29.063305Z"
    },
    "papermill": {
     "duration": 0.04029,
     "end_time": "2023-08-24T09:11:29.067109",
     "exception": false,
     "start_time": "2023-08-24T09:11:29.026819",
     "status": "completed"
    },
    "tags": []
   },
   "outputs": [
    {
     "data": {
      "text/plain": [
       "'pipe = Pipeline([\\n#     (\\'model\\', LogisticRegression(C =  0.9555898857944699, max_iter= 200,penalty=\\'l2\\',solver=\\'saga\\'))\\n    (\\'model\\',LogisticRegression(C=0.8851759613930136, max_iter=500,solver=\\'liblinear\\'))\\n])\\n\\npipe.fit(X, y_tr)\\n\\ny_pred = pipe.predict(X_test)\\n\\naccuracy = accuracy_score(y_t, y_pred)\\nprint(\"Accuracy:\", accuracy)\\n\\npred = pipe.predict(X_test)\\nprint(\\'Classification_report\\')\\nprint(classification_report(y_t,pred))\\nprint(\\'Confusion Matrix\\')\\nprint(confusion_matrix(y_t, pred))\\n\\nprint(\\'F1_Score\\',f1_score(pred, y_t,pos_label=\\'POSITIVE\\'))'"
      ]
     },
     "execution_count": 33,
     "metadata": {},
     "output_type": "execute_result"
    }
   ],
   "source": [
    "\"\"\"pipe = Pipeline([\n",
    "#     ('model', LogisticRegression(C =  0.9555898857944699, max_iter= 200,penalty='l2',solver='saga'))\n",
    "    ('model',LogisticRegression(C=0.8851759613930136, max_iter=500,solver='liblinear'))\n",
    "])\n",
    "\n",
    "pipe.fit(X, y_tr)\n",
    "\n",
    "y_pred = pipe.predict(X_test)\n",
    "\n",
    "accuracy = accuracy_score(y_t, y_pred)\n",
    "print(\"Accuracy:\", accuracy)\n",
    "\n",
    "pred = pipe.predict(X_test)\n",
    "print('Classification_report')\n",
    "print(classification_report(y_t,pred))\n",
    "print('Confusion Matrix')\n",
    "print(confusion_matrix(y_t, pred))\n",
    "\n",
    "print('F1_Score',f1_score(pred, y_t,pos_label='POSITIVE'))\"\"\""
   ]
  },
  {
   "cell_type": "markdown",
   "id": "672bf8e6",
   "metadata": {
    "papermill": {
     "duration": 0.028359,
     "end_time": "2023-08-24T09:11:29.124426",
     "exception": false,
     "start_time": "2023-08-24T09:11:29.096067",
     "status": "completed"
    },
    "tags": []
   },
   "source": [
    "Accuracy: 0.8086446301302531\n",
    "Classification_report\n",
    "              precision    recall  f1-score   support\n",
    "\n",
    "    NEGATIVE       0.77      0.59      0.67     10696\n",
    "    POSITIVE       0.82      0.91      0.87     21856\n",
    "\n",
    "    accuracy                           0.81     32552\n",
    "   macro avg       0.80      0.75      0.77     32552\n",
    "weighted avg       0.80      0.81      0.80     32552\n",
    "\n",
    "Confusion Matrix\n",
    "[[ 6358  4338]\n",
    " [ 1891 19965]]\n",
    "F1_Score 0.8650534023700688"
   ]
  },
  {
   "cell_type": "markdown",
   "id": "a83dcf1b",
   "metadata": {
    "papermill": {
     "duration": 0.028259,
     "end_time": "2023-08-24T09:11:29.182248",
     "exception": false,
     "start_time": "2023-08-24T09:11:29.153989",
     "status": "completed"
    },
    "tags": []
   },
   "source": [
    "# Model:2 LinearSVC\n"
   ]
  },
  {
   "cell_type": "code",
   "execution_count": 34,
   "id": "32c30efc",
   "metadata": {
    "execution": {
     "iopub.execute_input": "2023-08-24T09:11:29.239987Z",
     "iopub.status.busy": "2023-08-24T09:11:29.239603Z",
     "iopub.status.idle": "2023-08-24T09:11:29.247168Z",
     "shell.execute_reply": "2023-08-24T09:11:29.246012Z"
    },
    "papermill": {
     "duration": 0.039466,
     "end_time": "2023-08-24T09:11:29.249967",
     "exception": false,
     "start_time": "2023-08-24T09:11:29.210501",
     "status": "completed"
    },
    "tags": []
   },
   "outputs": [
    {
     "data": {
      "text/plain": [
       "'from sklearn.svm import LinearSVC\\n\\nmodel = LinearSVC(random_state=42)\\nmodel.fit(X, y_tr)\\ny_pred = model.predict(X_test)\\n\\naccuracy = accuracy_score(y_t, y_pred)\\nprint(\"Accuracy:\", accuracy)\\n\\nprint(\\'Classification_report\\')\\nprint(classification_report(y_t, y_pred))\\n\\n\\nprint(\\'F1_Score\\',f1_score(y_t,y_pred,pos_label = \"POSITIVE\"))\\n\\nprint(\\'Confusion Matrix\\')\\nprint(confusion_matrix(y_t, y_pred))'"
      ]
     },
     "execution_count": 34,
     "metadata": {},
     "output_type": "execute_result"
    }
   ],
   "source": [
    "\"\"\"from sklearn.svm import LinearSVC\n",
    "\n",
    "model = LinearSVC(random_state=42)\n",
    "model.fit(X, y_tr)\n",
    "y_pred = model.predict(X_test)\n",
    "\n",
    "accuracy = accuracy_score(y_t, y_pred)\n",
    "print(\"Accuracy:\", accuracy)\n",
    "\n",
    "print('Classification_report')\n",
    "print(classification_report(y_t, y_pred))\n",
    "\n",
    "\n",
    "print('F1_Score',f1_score(y_t,y_pred,pos_label = \"POSITIVE\"))\n",
    "\n",
    "print('Confusion Matrix')\n",
    "print(confusion_matrix(y_t, y_pred))\"\"\""
   ]
  },
  {
   "cell_type": "markdown",
   "id": "b1b499eb",
   "metadata": {
    "papermill": {
     "duration": 0.028019,
     "end_time": "2023-08-24T09:11:29.306162",
     "exception": false,
     "start_time": "2023-08-24T09:11:29.278143",
     "status": "completed"
    },
    "tags": []
   },
   "source": [
    "Accuracy: 0.8236974686655197\n",
    "Classification_report\n",
    "              precision    recall  f1-score   support\n",
    "\n",
    "    NEGATIVE       0.76      0.67      0.72     10696\n",
    "    POSITIVE       0.85      0.90      0.87     21856\n",
    "\n",
    "    accuracy                           0.82     32552\n",
    "   macro avg       0.81      0.79      0.79     32552\n",
    "weighted avg       0.82      0.82      0.82     32552\n",
    "\n",
    "F1_Score 0.872321964893546\n",
    "Confusion Matrix\n",
    "[[ 7208  3488]\n",
    " [ 2251 19605]]"
   ]
  },
  {
   "cell_type": "markdown",
   "id": "ce86b8b1",
   "metadata": {
    "papermill": {
     "duration": 0.029009,
     "end_time": "2023-08-24T09:11:29.365396",
     "exception": false,
     "start_time": "2023-08-24T09:11:29.336387",
     "status": "completed"
    },
    "tags": []
   },
   "source": [
    "# Hyper Parameter Tuning for Linear SVC"
   ]
  },
  {
   "cell_type": "code",
   "execution_count": 35,
   "id": "2786e142",
   "metadata": {
    "execution": {
     "iopub.execute_input": "2023-08-24T09:11:29.424280Z",
     "iopub.status.busy": "2023-08-24T09:11:29.423490Z",
     "iopub.status.idle": "2023-08-24T09:11:29.430587Z",
     "shell.execute_reply": "2023-08-24T09:11:29.429607Z"
    },
    "papermill": {
     "duration": 0.039345,
     "end_time": "2023-08-24T09:11:29.432948",
     "exception": false,
     "start_time": "2023-08-24T09:11:29.393603",
     "status": "completed"
    },
    "tags": []
   },
   "outputs": [
    {
     "data": {
      "text/plain": [
       "\"param_grid = {\\n    'C': [0.5, 1, 1.5, 2 , 5, 10],\\n    'max_iter': [100, 200, 400, 800, 1000]\\n}\\ngrid_search = GridSearchCV(linear_svc, param_grid=param_grid, cv=5, verbose=2, n_jobs=-1,random_state=42)\\n\\ngrid_search.fit(x_tr, y_tr)\\nbest_params = grid_search.best_params_\\nbest_model = grid_search.best_estimator_\\n\""
      ]
     },
     "execution_count": 35,
     "metadata": {},
     "output_type": "execute_result"
    }
   ],
   "source": [
    "\"\"\"param_grid = {\n",
    "    'C': [0.5, 1, 1.5, 2 , 5, 10],\n",
    "    'max_iter': [100, 200, 400, 800, 1000]\n",
    "}\n",
    "grid_search = GridSearchCV(linear_svc, param_grid=param_grid, cv=5, verbose=2, n_jobs=-1,random_state=42)\n",
    "\n",
    "grid_search.fit(x_tr, y_tr)\n",
    "best_params = grid_search.best_params_\n",
    "best_model = grid_search.best_estimator_\n",
    "\"\"\""
   ]
  },
  {
   "cell_type": "code",
   "execution_count": 36,
   "id": "29a844e7",
   "metadata": {
    "execution": {
     "iopub.execute_input": "2023-08-24T09:11:29.491851Z",
     "iopub.status.busy": "2023-08-24T09:11:29.491098Z",
     "iopub.status.idle": "2023-08-24T09:11:29.498143Z",
     "shell.execute_reply": "2023-08-24T09:11:29.497212Z"
    },
    "papermill": {
     "duration": 0.039519,
     "end_time": "2023-08-24T09:11:29.500759",
     "exception": false,
     "start_time": "2023-08-24T09:11:29.461240",
     "status": "completed"
    },
    "tags": []
   },
   "outputs": [
    {
     "data": {
      "text/plain": [
       "\"print('LinearSVC HPT',best_params)\\nprint('Best Model : LinearSVC',best_model)\""
      ]
     },
     "execution_count": 36,
     "metadata": {},
     "output_type": "execute_result"
    }
   ],
   "source": [
    "\"\"\"print('LinearSVC HPT',best_params)\n",
    "print('Best Model : LinearSVC',best_model)\"\"\""
   ]
  },
  {
   "cell_type": "markdown",
   "id": "bbb4b7d4",
   "metadata": {
    "papermill": {
     "duration": 0.029182,
     "end_time": "2023-08-24T09:11:29.559479",
     "exception": false,
     "start_time": "2023-08-24T09:11:29.530297",
     "status": "completed"
    },
    "tags": []
   },
   "source": [
    "### Best parameters: {'C': 1, 'max_iter': 400}\n"
   ]
  },
  {
   "cell_type": "markdown",
   "id": "c0bdbe23",
   "metadata": {
    "papermill": {
     "duration": 0.028105,
     "end_time": "2023-08-24T09:11:29.616106",
     "exception": false,
     "start_time": "2023-08-24T09:11:29.588001",
     "status": "completed"
    },
    "tags": []
   },
   "source": [
    "# Training model after HPT: "
   ]
  },
  {
   "cell_type": "code",
   "execution_count": 37,
   "id": "e3f0f57d",
   "metadata": {
    "execution": {
     "iopub.execute_input": "2023-08-24T09:11:29.676148Z",
     "iopub.status.busy": "2023-08-24T09:11:29.675329Z",
     "iopub.status.idle": "2023-08-24T09:12:16.225925Z",
     "shell.execute_reply": "2023-08-24T09:12:16.224605Z"
    },
    "papermill": {
     "duration": 46.583279,
     "end_time": "2023-08-24T09:12:16.228527",
     "exception": false,
     "start_time": "2023-08-24T09:11:29.645248",
     "status": "completed"
    },
    "tags": []
   },
   "outputs": [
    {
     "name": "stderr",
     "output_type": "stream",
     "text": [
      "/opt/conda/lib/python3.10/site-packages/sklearn/svm/_base.py:1244: ConvergenceWarning: Liblinear failed to converge, increase the number of iterations.\n",
      "  warnings.warn(\n"
     ]
    },
    {
     "name": "stdout",
     "output_type": "stream",
     "text": [
      "Accuracy: 0.8237281887441632\n",
      "Classification_report\n",
      "              precision    recall  f1-score   support\n",
      "\n",
      "    NEGATIVE       0.76      0.67      0.72     10696\n",
      "    POSITIVE       0.85      0.90      0.87     21856\n",
      "\n",
      "    accuracy                           0.82     32552\n",
      "   macro avg       0.81      0.79      0.79     32552\n",
      "weighted avg       0.82      0.82      0.82     32552\n",
      "\n",
      "F1_Score 0.8723413722523805\n",
      "Confusion Matrix\n",
      "[[ 7209  3487]\n",
      " [ 2251 19605]]\n"
     ]
    }
   ],
   "source": [
    "model2 = LinearSVC(C=1,max_iter=400,random_state=42)\n",
    "model2.fit(X, y_tr)\n",
    "y_pred = model2.predict(X_test)\n",
    "\n",
    "accuracy = accuracy_score(y_t, y_pred)\n",
    "print(\"Accuracy:\", accuracy)\n",
    "\n",
    "print('Classification_report')\n",
    "print(classification_report(y_t, y_pred))\n",
    "\n",
    "\n",
    "print('F1_Score',f1_score(y_t,y_pred,pos_label = \"POSITIVE\"))\n",
    "\n",
    "print('Confusion Matrix')\n",
    "print(confusion_matrix(y_t, y_pred))"
   ]
  },
  {
   "cell_type": "markdown",
   "id": "e1fa2eff",
   "metadata": {
    "papermill": {
     "duration": 0.028562,
     "end_time": "2023-08-24T09:12:16.286054",
     "exception": false,
     "start_time": "2023-08-24T09:12:16.257492",
     "status": "completed"
    },
    "tags": []
   },
   "source": [
    "Accuracy: 0.8236974686655197\n",
    "Classification_report\n",
    "              precision    recall  f1-score   support\n",
    "\n",
    "    NEGATIVE       0.76      0.67      0.72     10696\n",
    "    POSITIVE       0.85      0.90      0.87     21856\n",
    "\n",
    "    accuracy                           0.82     32552\n",
    "   macro avg       0.81      0.79      0.79     32552\n",
    "weighted avg       0.82      0.82      0.82     32552\n",
    "\n",
    "F1_Score 0.8723413722523805\n",
    "Confusion Matrix\n",
    "[[ 7209  3487]\n",
    " [ 2251 19605]]\n"
   ]
  },
  {
   "cell_type": "markdown",
   "id": "3544cd68",
   "metadata": {
    "papermill": {
     "duration": 0.029174,
     "end_time": "2023-08-24T09:12:16.344216",
     "exception": false,
     "start_time": "2023-08-24T09:12:16.315042",
     "status": "completed"
    },
    "tags": []
   },
   "source": [
    "# Model:3 Ridge Classifier"
   ]
  },
  {
   "cell_type": "code",
   "execution_count": 38,
   "id": "74f2afde",
   "metadata": {
    "execution": {
     "iopub.execute_input": "2023-08-24T09:12:16.403972Z",
     "iopub.status.busy": "2023-08-24T09:12:16.403591Z",
     "iopub.status.idle": "2023-08-24T09:12:16.411619Z",
     "shell.execute_reply": "2023-08-24T09:12:16.410401Z"
    },
    "papermill": {
     "duration": 0.040738,
     "end_time": "2023-08-24T09:12:16.413861",
     "exception": false,
     "start_time": "2023-08-24T09:12:16.373123",
     "status": "completed"
    },
    "tags": []
   },
   "outputs": [
    {
     "data": {
      "text/plain": [
       "\" \\nparam_distributions = {\\n    'alpha': uniform(loc=0, scale=10),  \\n    'solver': ['auto', 'svd', 'sag', 'saga']\\n}\\nmodel4 = RidgeClassifier()\\nrandom_search = RandomizedSearchCV(estimator=model4, \\n                                    param_distributions=param_distributions,\\n                                    cv=5, \\n                                    n_iter=10)\\n\\nrandom_search.fit(x_tr, y_tr)\\nbest_params = random_search.best_params_\\n \\n#best_params: {'alpha': 3.096149524540197, 'solver': 'auto'}\\n\\n\\nbest_model = RidgeClassifier(alpha = 3.096149524540197, solver = 'auto')\\nbest_model.fit(X_tr, y_tr)\\nbest_model.score(X_tr, y_tr)\\n\\n\\n\""
      ]
     },
     "execution_count": 38,
     "metadata": {},
     "output_type": "execute_result"
    }
   ],
   "source": [
    "\"\"\" \n",
    "param_distributions = {\n",
    "    'alpha': uniform(loc=0, scale=10),  \n",
    "    'solver': ['auto', 'svd', 'sag', 'saga']\n",
    "}\n",
    "model4 = RidgeClassifier()\n",
    "random_search = RandomizedSearchCV(estimator=model4, \n",
    "                                    param_distributions=param_distributions,\n",
    "                                    cv=5, \n",
    "                                    n_iter=10)\n",
    "\n",
    "random_search.fit(x_tr, y_tr)\n",
    "best_params = random_search.best_params_\n",
    " \n",
    "#best_params: {'alpha': 3.096149524540197, 'solver': 'auto'}\n",
    "\n",
    "\n",
    "best_model = RidgeClassifier(alpha = 3.096149524540197, solver = 'auto')\n",
    "best_model.fit(X_tr, y_tr)\n",
    "best_model.score(X_tr, y_tr)\n",
    "\n",
    "\n",
    "\"\"\""
   ]
  },
  {
   "cell_type": "code",
   "execution_count": 39,
   "id": "b833c4d9",
   "metadata": {
    "execution": {
     "iopub.execute_input": "2023-08-24T09:12:16.475595Z",
     "iopub.status.busy": "2023-08-24T09:12:16.475207Z",
     "iopub.status.idle": "2023-08-24T09:12:16.481939Z",
     "shell.execute_reply": "2023-08-24T09:12:16.480702Z"
    },
    "papermill": {
     "duration": 0.040018,
     "end_time": "2023-08-24T09:12:16.484311",
     "exception": false,
     "start_time": "2023-08-24T09:12:16.444293",
     "status": "completed"
    },
    "tags": []
   },
   "outputs": [
    {
     "data": {
      "text/plain": [
       "\" \\npred = best_model.predict(x_t)\\n\\nprint(classification_report(y_t,pred))\\nprint(confusion_matrix(y_t, pred))\\nprint(f1_score(pred, y_t,pos_label='POSITIVE'))\\n\""
      ]
     },
     "execution_count": 39,
     "metadata": {},
     "output_type": "execute_result"
    }
   ],
   "source": [
    "\"\"\" \n",
    "pred = best_model.predict(x_t)\n",
    "\n",
    "print(classification_report(y_t,pred))\n",
    "print(confusion_matrix(y_t, pred))\n",
    "print(f1_score(pred, y_t,pos_label='POSITIVE'))\n",
    "\"\"\""
   ]
  },
  {
   "cell_type": "markdown",
   "id": "c1c01f27",
   "metadata": {
    "papermill": {
     "duration": 0.028965,
     "end_time": "2023-08-24T09:12:16.543808",
     "exception": false,
     "start_time": "2023-08-24T09:12:16.514843",
     "status": "completed"
    },
    "tags": []
   },
   "source": [
    "              precision    recall  f1-score   support\n",
    "\n",
    "    NEGATIVE       0.80      0.47      0.59     16198\n",
    "    POSITIVE       0.78      0.94      0.85     32630\n",
    "\n",
    "    accuracy                           0.78     48828\n",
    "     macro avg       0.79      0.70      0.72     48828\n",
    "    weighted avg       0.79      0.78      0.77     48828\n",
    "    \n",
    "    Confusion Matrix\n",
    "\n",
    "    [[ 7556  8642]\n",
    "    [ 1858 30772]]\n",
    "    \n",
    "    F1 score:  0.8542557326078507"
   ]
  },
  {
   "cell_type": "markdown",
   "id": "8359edd4",
   "metadata": {
    "papermill": {
     "duration": 0.028656,
     "end_time": "2023-08-24T09:12:16.601611",
     "exception": false,
     "start_time": "2023-08-24T09:12:16.572955",
     "status": "completed"
    },
    "tags": []
   },
   "source": [
    "# Model:4 Decision Tree"
   ]
  },
  {
   "cell_type": "code",
   "execution_count": 40,
   "id": "2f819166",
   "metadata": {
    "execution": {
     "iopub.execute_input": "2023-08-24T09:12:16.662289Z",
     "iopub.status.busy": "2023-08-24T09:12:16.661896Z",
     "iopub.status.idle": "2023-08-24T09:12:16.668925Z",
     "shell.execute_reply": "2023-08-24T09:12:16.667819Z"
    },
    "papermill": {
     "duration": 0.040729,
     "end_time": "2023-08-24T09:12:16.671317",
     "exception": false,
     "start_time": "2023-08-24T09:12:16.630588",
     "status": "completed"
    },
    "tags": []
   },
   "outputs": [
    {
     "data": {
      "text/plain": [
       "\"from sklearn.tree import DecisionTreeClassifier\\n\\nmodel4 = DecisionTreeClassifier()\\nmodel4.fit(x_tr, y_tr)\\n\\npred=model4.predict(x_tr)\\nprint('Accuracy Score: ',accuracy_score(y_tr,pred))\\nprint('Classification Report')\\nprint(classification_report(y_tr,pred))\\nprint('Confusion Matrix',confusion_matrix(y_tr,pred))\\n\""
      ]
     },
     "execution_count": 40,
     "metadata": {},
     "output_type": "execute_result"
    }
   ],
   "source": [
    "\"\"\"from sklearn.tree import DecisionTreeClassifier\n",
    "\n",
    "model4 = DecisionTreeClassifier()\n",
    "model4.fit(x_tr, y_tr)\n",
    "\n",
    "pred=model4.predict(x_tr)\n",
    "print('Accuracy Score: ',accuracy_score(y_tr,pred))\n",
    "print('Classification Report')\n",
    "print(classification_report(y_tr,pred))\n",
    "print('Confusion Matrix',confusion_matrix(y_tr,pred))\n",
    "\"\"\""
   ]
  },
  {
   "cell_type": "markdown",
   "id": "3e3946a3",
   "metadata": {
    "papermill": {
     "duration": 0.030031,
     "end_time": "2023-08-24T09:12:16.730867",
     "exception": false,
     "start_time": "2023-08-24T09:12:16.700836",
     "status": "completed"
    },
    "tags": []
   },
   "source": [
    "# Submission File"
   ]
  },
  {
   "cell_type": "code",
   "execution_count": 41,
   "id": "607264e2",
   "metadata": {
    "execution": {
     "iopub.execute_input": "2023-08-24T09:12:16.794781Z",
     "iopub.status.busy": "2023-08-24T09:12:16.794380Z",
     "iopub.status.idle": "2023-08-24T09:12:16.818442Z",
     "shell.execute_reply": "2023-08-24T09:12:16.817233Z"
    },
    "papermill": {
     "duration": 0.059427,
     "end_time": "2023-08-24T09:12:16.821089",
     "exception": false,
     "start_time": "2023-08-24T09:12:16.761662",
     "status": "completed"
    },
    "tags": []
   },
   "outputs": [],
   "source": [
    "pred = model2.predict(X_test_final)"
   ]
  },
  {
   "cell_type": "code",
   "execution_count": 42,
   "id": "4fb722de",
   "metadata": {
    "execution": {
     "iopub.execute_input": "2023-08-24T09:12:16.884592Z",
     "iopub.status.busy": "2023-08-24T09:12:16.884139Z",
     "iopub.status.idle": "2023-08-24T09:12:17.150583Z",
     "shell.execute_reply": "2023-08-24T09:12:17.149709Z"
    },
    "papermill": {
     "duration": 0.301114,
     "end_time": "2023-08-24T09:12:17.153218",
     "exception": false,
     "start_time": "2023-08-24T09:12:16.852104",
     "status": "completed"
    },
    "tags": []
   },
   "outputs": [],
   "source": [
    "submission = pd.DataFrame(columns = ['id', 'sentiment'])\n",
    "submission['id'] = [i for i in range(len(pred))]\n",
    "submission['sentiment'] = pred\n",
    "submission.to_csv('submission.csv', index = False )"
   ]
  },
  {
   "cell_type": "code",
   "execution_count": 43,
   "id": "9f6068ba",
   "metadata": {
    "execution": {
     "iopub.execute_input": "2023-08-24T09:12:17.214538Z",
     "iopub.status.busy": "2023-08-24T09:12:17.214117Z",
     "iopub.status.idle": "2023-08-24T09:12:17.229918Z",
     "shell.execute_reply": "2023-08-24T09:12:17.229065Z"
    },
    "papermill": {
     "duration": 0.049568,
     "end_time": "2023-08-24T09:12:17.232195",
     "exception": false,
     "start_time": "2023-08-24T09:12:17.182627",
     "status": "completed"
    },
    "tags": []
   },
   "outputs": [
    {
     "data": {
      "text/plain": [
       "POSITIVE    39140\n",
       "NEGATIVE    16175\n",
       "Name: sentiment, dtype: int64"
      ]
     },
     "execution_count": 43,
     "metadata": {},
     "output_type": "execute_result"
    }
   ],
   "source": [
    "submission[\"sentiment\"].value_counts()"
   ]
  }
 ],
 "metadata": {
  "kernelspec": {
   "display_name": "Python 3",
   "language": "python",
   "name": "python3"
  },
  "language_info": {
   "codemirror_mode": {
    "name": "ipython",
    "version": 3
   },
   "file_extension": ".py",
   "mimetype": "text/x-python",
   "name": "python",
   "nbconvert_exporter": "python",
   "pygments_lexer": "ipython3",
   "version": "3.10.10"
  },
  "papermill": {
   "default_parameters": {},
   "duration": 119.634095,
   "end_time": "2023-08-24T09:12:18.687360",
   "environment_variables": {},
   "exception": null,
   "input_path": "__notebook__.ipynb",
   "output_path": "__notebook__.ipynb",
   "parameters": {},
   "start_time": "2023-08-24T09:10:19.053265",
   "version": "2.4.0"
  }
 },
 "nbformat": 4,
 "nbformat_minor": 5
}
